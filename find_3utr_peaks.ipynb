{
 "cells": [
  {
   "cell_type": "markdown",
   "metadata": {},
   "source": [
    "### Test function to infer UTR position from GTF"
   ]
  },
  {
   "cell_type": "code",
   "execution_count": 1,
   "metadata": {},
   "outputs": [],
   "source": [
    "from utils import load_annotation"
   ]
  },
  {
   "cell_type": "code",
   "execution_count": 10,
   "metadata": {},
   "outputs": [],
   "source": [
    "import pandas as pd\n",
    "from joblib import Parallel, delayed\n",
    "from tqdm.auto import tqdm\n",
    "\n",
    "\n",
    "def update_utr_features(df: pd.DataFrame, n_jobs: int = 4) -> pd.DataFrame:\n",
    "    \"\"\"\n",
    "    Update UTR features in the GTF DataFrame to either \"three_prime_UTR\" or \"five_prime_UTR\"\n",
    "    based on their relative position with their parent transcript, considering the strand information.\n",
    "\n",
    "    Args:\n",
    "        df (pd.DataFrame): Input GTF DataFrame.\n",
    "        n_jobs (int): Number of parallel jobs to run. Default is 4.\n",
    "\n",
    "    Returns:\n",
    "        pd.DataFrame: Updated GTF DataFrame with UTR features renamed.\n",
    "    \"\"\"\n",
    "\n",
    "    def parse_attributes(attribute: str) -> dict:\n",
    "        \"\"\"\n",
    "        Parse GTF attribute string into a dictionary.\n",
    "\n",
    "        Args:\n",
    "            attribute (str): Attribute string from GTF file.\n",
    "\n",
    "        Returns:\n",
    "            dict: Parsed attributes as a dictionary.\n",
    "        \"\"\"\n",
    "        attr_dict = {}\n",
    "        for attr in attribute.split(\";\"):\n",
    "            key_value = attr.strip().split(\" \")\n",
    "            if len(key_value) == 2:\n",
    "                key, value = key_value\n",
    "                value = value.strip('\"')\n",
    "                attr_dict[key] = value\n",
    "        return attr_dict\n",
    "\n",
    "    def process_utr(utr_row: pd.Series, transcript_positions: dict) -> pd.Series:\n",
    "        \"\"\"\n",
    "        Process a UTR row to determine if it is a five_prime_UTR or three_prime_UTR.\n",
    "\n",
    "        Args:\n",
    "            utr_row (pd.Series): UTR row from the DataFrame.\n",
    "            transcript_positions (dict): Dictionary containing start and end positions of transcripts.\n",
    "\n",
    "        Returns:\n",
    "            pd.Series: Updated UTR row.\n",
    "        \"\"\"\n",
    "        attributes = parse_attributes(utr_row[\"attribute\"])\n",
    "        transcript_id = attributes.get(\"transcript_id\")\n",
    "        if not transcript_id or transcript_id not in transcript_positions:\n",
    "            return utr_row\n",
    "\n",
    "        start, end = utr_row[\"start\"], utr_row[\"end\"]\n",
    "        transcript_start, transcript_end, strand = transcript_positions[transcript_id]\n",
    "\n",
    "        if strand == \"+\":\n",
    "            if start == transcript_start:\n",
    "                utr_row[\"feature\"] = \"five_prime_UTR\"\n",
    "            elif end == transcript_end:\n",
    "                utr_row[\"feature\"] = \"three_prime_UTR\"\n",
    "            else:\n",
    "                utr_row[\"feature\"] = \"UTR\"\n",
    "        elif strand == \"-\":\n",
    "            if start == transcript_start:\n",
    "                utr_row[\"feature\"] = \"three_prime_UTR\"\n",
    "            elif end == transcript_end:\n",
    "                utr_row[\"feature\"] = \"five_prime_UTR\"\n",
    "            else:\n",
    "                utr_row[\"feature\"] = \"UTR\"\n",
    "        return utr_row\n",
    "\n",
    "    # Extract transcript positions\n",
    "    transcripts = df[df[\"feature\"] == \"transcript\"]\n",
    "    transcript_positions = {}\n",
    "    for _, row in transcripts.iterrows():\n",
    "        attributes = parse_attributes(row[\"attribute\"])\n",
    "        transcript_id = attributes.get(\"transcript_id\")\n",
    "        if transcript_id:\n",
    "            transcript_positions[transcript_id] = (\n",
    "                row[\"start\"],\n",
    "                row[\"end\"],\n",
    "                row[\"strand\"],\n",
    "            )\n",
    "\n",
    "    # Process UTR rows\n",
    "    utr_df = df[df[\"feature\"] == \"UTR\"]\n",
    "    non_utr_df = df[df[\"feature\"] != \"UTR\"]\n",
    "\n",
    "    # processed_utrs = Parallel(n_jobs=n_jobs)(\n",
    "    #     delayed(process_utr)(row, transcript_positions)\n",
    "    #     for _, row in tqdm(list(utr_df.iterrows()), total=len(utr_df))\n",
    "    # )\n",
    "    processed_utrs = []\n",
    "    for _, row in tqdm(list(utr_df.iterrows()), total=len(utr_df)):\n",
    "        processed_utrs.append(process_utr(row, transcript_positions))\n",
    "\n",
    "    updated_utr_df = pd.DataFrame(processed_utrs, columns=df.columns)\n",
    "    updated_df = pd.concat([non_utr_df, updated_utr_df]).sort_index()\n",
    "\n",
    "    return updated_df\n",
    "\n",
    "\n",
    "# Example usage\n",
    "# gtf_df = pd.read_csv('your_gtf_file.gtf', sep='\\t', header=None, comment='#',\n",
    "#                      names=['seqname', 'source', 'feature', 'start', 'end', 'score', 'strand', 'frame', 'attribute'])\n",
    "# updated_gtf_df = update_utr_features(gtf_df)"
   ]
  },
  {
   "cell_type": "code",
   "execution_count": 6,
   "metadata": {},
   "outputs": [
    {
     "data": {
      "text/plain": [
       "feature\n",
       "exon              1305354\n",
       "CDS                754501\n",
       "UTR                304544\n",
       "transcript         199138\n",
       "start_codon         86811\n",
       "stop_codon          78905\n",
       "gene                36600\n",
       "Selenocysteine        115\n",
       "Name: count, dtype: int64"
      ]
     },
     "execution_count": 6,
     "metadata": {},
     "output_type": "execute_result"
    }
   ],
   "source": [
    "df = load_annotation(\n",
    "    \"/mnt/c/aws_data/data/10x/space_ranger/reference/refdata-gex-GRCh38-2020-A/genes/genes.gtf\"\n",
    ")\n",
    "df.feature.value_counts()"
   ]
  },
  {
   "cell_type": "code",
   "execution_count": 37,
   "metadata": {},
   "outputs": [],
   "source": [
    "def parse_attributes(attribute: str) -> dict:\n",
    "    \"\"\"\n",
    "    Parse GTF attribute string into a dictionary.\n",
    "\n",
    "    Args:\n",
    "        attribute (str): Attribute string from GTF file.\n",
    "\n",
    "    Returns:\n",
    "        dict: Parsed attributes as a dictionary.\n",
    "    \"\"\"\n",
    "    attr_dict = {}\n",
    "    for attr in attribute.split(\";\"):\n",
    "        key_value = attr.strip().split(\" \")\n",
    "        if len(key_value) == 2:\n",
    "            key, value = key_value\n",
    "            value = value.strip('\"')\n",
    "            attr_dict[key] = value\n",
    "    return attr_dict\n",
    "\n",
    "\n",
    "def process_utr(utr_row: pd.Series, cds_positions: dict) -> pd.Series:\n",
    "    \"\"\"\n",
    "    Process a UTR row to determine if it is a five_prime_UTR or three_prime_UTR.\n",
    "\n",
    "    Args:\n",
    "        utr_row (pd.Series): UTR row from the DataFrame.\n",
    "        transcript_positions (dict): Dictionary containing start and end positions of transcripts.\n",
    "\n",
    "    Returns:\n",
    "        pd.Series: Updated UTR row.\n",
    "    \"\"\"\n",
    "    attributes = parse_attributes(utr_row[\"attribute\"])\n",
    "    protein_id = attributes.get(\"protein_id\")\n",
    "    if not protein_id or protein_id not in cds_positions:\n",
    "        return utr_row\n",
    "\n",
    "    start, end = utr_row[\"start\"], utr_row[\"end\"]\n",
    "    transcript_start, transcript_end, strand = cds_positions[protein_id]\n",
    "\n",
    "    feature = \"UTR\"\n",
    "    if strand == \"+\":\n",
    "        if end < transcript_start:\n",
    "            feature = \"five_prime_UTR\"\n",
    "        elif start > transcript_end:\n",
    "            feature = \"three_prime_UTR\"\n",
    "    elif strand == \"-\":\n",
    "        if start < transcript_start:\n",
    "            feature = \"three_prime_UTR\"\n",
    "        elif end > transcript_end:\n",
    "            feature = \"five_prime_UTR\"\n",
    "    return feature"
   ]
  },
  {
   "cell_type": "code",
   "execution_count": 27,
   "metadata": {},
   "outputs": [],
   "source": [
    "# Extract transcript positions\n",
    "transcripts = df[df[\"feature\"] == \"transcript\"]\n",
    "# transcript_positions = {}\n",
    "transcript2cds = {}\n",
    "for _, row in transcripts.iterrows():\n",
    "    attributes = parse_attributes(row[\"attribute\"])\n",
    "    transcript_id = attributes.get(\"transcript_id\")\n",
    "    cds_id = attributes.get(\"protein_id\")\n",
    "    if transcript_id and cds_id:\n",
    "        if transcript_id not in transcript2cds:\n",
    "            transcript2cds[transcript_id] = []\n",
    "        transcript2cds[transcript_id].append(cds_id)\n",
    "        # transcript_positions[transcript_id] = (\n",
    "        #     row[\"start\"],\n",
    "        #     row[\"end\"],\n",
    "        #     row[\"strand\"],\n",
    "        # )\n",
    "assert max(map(len, transcript2cds.values())) == 1, \"Multiple CDS per transcript\""
   ]
  },
  {
   "cell_type": "code",
   "execution_count": 29,
   "metadata": {},
   "outputs": [],
   "source": [
    "cds_positions = {}\n",
    "cdss = df[df[\"feature\"] == \"CDS\"]\n",
    "for _, row in cdss.iterrows():\n",
    "    attributes = parse_attributes(row[\"attribute\"])\n",
    "    cds_id = attributes.get(\"protein_id\")\n",
    "    if cds_id:\n",
    "        cds_positions[cds_id] = (row[\"start\"], row[\"end\"], row[\"strand\"])"
   ]
  },
  {
   "cell_type": "code",
   "execution_count": 38,
   "metadata": {},
   "outputs": [
    {
     "data": {
      "application/vnd.jupyter.widget-view+json": {
       "model_id": "711b2af18d07428fb60320b7280258e1",
       "version_major": 2,
       "version_minor": 0
      },
      "text/plain": [
       "  0%|          | 0/304544 [00:00<?, ?it/s]"
      ]
     },
     "metadata": {},
     "output_type": "display_data"
    },
    {
     "data": {
      "text/plain": [
       "three_prime_UTR    153091\n",
       "five_prime_UTR     151453\n",
       "Name: count, dtype: int64"
      ]
     },
     "execution_count": 38,
     "metadata": {},
     "output_type": "execute_result"
    }
   ],
   "source": [
    "# Process UTR rows\n",
    "utr_df = df[df[\"feature\"] == \"UTR\"]\n",
    "non_utr_df = df[df[\"feature\"] != \"UTR\"]\n",
    "\n",
    "# processed_utrs = []\n",
    "# for _, row in tqdm(utr_df.iterrows(), total=len(utr_df)):\n",
    "#     processed_utrs.append(process_utr(row, cds_positions))\n",
    "features_new = [\n",
    "    process_utr(row, cds_positions)\n",
    "    for _, row in tqdm(utr_df.iterrows(), total=len(utr_df))\n",
    "]\n",
    "pd.Series(features_new).value_counts()"
   ]
  },
  {
   "cell_type": "markdown",
   "metadata": {},
   "source": [
    "### Extract 3' UTR regions from MACS3 output."
   ]
  },
  {
   "cell_type": "code",
   "execution_count": 1,
   "metadata": {},
   "outputs": [],
   "source": [
    "import warnings\n",
    "import os\n",
    "import glob\n",
    "\n",
    "import numpy as np\n",
    "import pandas as pd\n",
    "import polars as pl\n",
    "import pyranges as pr\n",
    "from tqdm.auto import tqdm"
   ]
  },
  {
   "cell_type": "code",
   "execution_count": 2,
   "metadata": {},
   "outputs": [],
   "source": [
    "%load_ext autoreload\n",
    "%autoreload 2"
   ]
  },
  {
   "cell_type": "code",
   "execution_count": 3,
   "metadata": {},
   "outputs": [],
   "source": [
    "from utils import load_region, load_annotation, read_genomic_region"
   ]
  },
  {
   "cell_type": "code",
   "execution_count": 4,
   "metadata": {},
   "outputs": [],
   "source": [
    "ref_data_path = \"/mnt/c/aws_data/data/ensembl/pub/release-98\"\n",
    "species = \"mus_musculus\"\n",
    "annot_path = f\"{ref_data_path}/gff3/{species}/Mus_musculus.GRCm38.98.chr_prefix.gff3.gz\"\n",
    "\n",
    "data_path = \"/mnt/c/aws_data/data/10x\"\n",
    "exp_name = \"visium_fresh_frozen_adult_mouse_brain\"\n",
    "np_path = \"/mnt/c/aws_data/data/SpatialSplicing/apa/visium_fresh_frozen_adult_mouse_brain/macs3_out/peaks.narrowPeak\"\n",
    "output_tsv = os.path.splitext(np_path)[0] + \".tsv\"\n",
    "\n",
    "# annot_path = \"/mnt/c/aws_data/data/gencode/Gencode_human/release_32/gencode.v32.annotation.gff3.gz\"\n",
    "# sample = \"s11\"\n",
    "# np_path = f\"/mnt/c/aws_data/data/arora_nc_2022/macs3_out/{sample}_peaks.narrowPeak\"\n",
    "# output_tsv = f\"/mnt/c/aws_data/data/arora_nc_2022/macs3_out/{sample}_peaks.tsv\""
   ]
  },
  {
   "cell_type": "code",
   "execution_count": 6,
   "metadata": {},
   "outputs": [
    {
     "name": "stdout",
     "output_type": "stream",
     "text": [
      "Empty DataFrame\n",
      "Columns: [chrom, source, feature, start, end, score, strand, frame, attribute]\n",
      "Index: []\n"
     ]
    },
    {
     "name": "stderr",
     "output_type": "stream",
     "text": [
      "/tmp/ipykernel_7595/2518696232.py:17: FutureWarning: The default of observed=False is deprecated and will be changed to True in a future version of pandas. Pass observed=False to retain current behavior or observed=True to adopt the future default and silence this warning.\n",
      "  for name, group in df_peak.groupby([\"chrom\", \"start\", \"end\", \"strand\", \"peak\"]):\n"
     ]
    },
    {
     "name": "stdout",
     "output_type": "stream",
     "text": [
      "Found 45463 RNA-seq coverage peaks across 32503 3' UTR regions\n"
     ]
    }
   ],
   "source": [
    "# for i in range(1, 13):\n",
    "#     print(f\"Processing sample {i}\")\n",
    "#     sample = f\"s{i}\"\n",
    "#     np_path = f\"/mnt/c/aws_data/data/arora_nc_2022/macs3_out/{sample}_peaks.narrowPeak\"\n",
    "#     output_tsv = f\"/mnt/c/aws_data/data/arora_nc_2022/macs3_out/{sample}_peaks.tsv\"\n",
    "for i in range(1):\n",
    "    feat = \"three_prime_UTR\" if \"gff\" in annot_path else \"UTR\"\n",
    "    df_peak = read_genomic_region(\n",
    "        np_path,\n",
    "        annotation_file=annot_path,\n",
    "        strand_specific=True,\n",
    "        feature=feat,\n",
    "    )\n",
    "    # aggregate utr_info into list by grouping entries with same chrom, start, end,\n",
    "    # strand and peak. Drop utr_start, utr_end, utr_strand\n",
    "    df_peak_g = []\n",
    "    for name, group in df_peak.groupby([\"chrom\", \"start\", \"end\", \"strand\", \"peak\"]):\n",
    "        df_peak_g.append(\n",
    "            {\n",
    "                \"chrom\": name[0],\n",
    "                \"start\": name[1],\n",
    "                \"end\": name[2],\n",
    "                \"strand\": name[3],\n",
    "                \"peak\": name[4],\n",
    "                \"utr_info\": \";\".join(group[f\"{feat}_info\"]),\n",
    "            }\n",
    "        )\n",
    "    df_peak_g = pd.DataFrame(df_peak_g)\n",
    "    df_peak_g\n",
    "    df_peak_g.index = (\n",
    "        df_peak_g.chrom\n",
    "        + \"_\"\n",
    "        + df_peak_g.start.astype(str)\n",
    "        + \"_\"\n",
    "        + df_peak_g.end.astype(str)\n",
    "        + \"_\"\n",
    "        + df_peak_g.peak.astype(str)\n",
    "    )\n",
    "    print(\n",
    "        f\"Found {df_peak_g.shape[0]} RNA-seq coverage peaks across \"\n",
    "        f\"{df_peak[['chrom', 'start', 'end', 'strand']].drop_duplicates().shape[0]} 3' UTR regions\"\n",
    "    )\n",
    "    # save as tsv\n",
    "    df_peak_g.to_csv(output_tsv, sep=\"\\t\")\n",
    "    # save as narrowPeak (add dummy columns and remove columns not needed)\n",
    "    df_peak_g.reset_index(names=[\"name\"]).assign(\n",
    "        score=999, signalValue=\".\", pValue=\".\", qValue=\".\"\n",
    "    )[\n",
    "        [\n",
    "            \"chrom\",\n",
    "            \"start\",\n",
    "            \"end\",\n",
    "            \"name\",\n",
    "            \"score\",\n",
    "            \"strand\",\n",
    "            \"signalValue\",\n",
    "            \"pValue\",\n",
    "            \"qValue\",\n",
    "            \"peak\",\n",
    "        ]\n",
    "    ].sort_values(\n",
    "        [\"chrom\", \"start\", \"end\", \"strand\", \"peak\"]\n",
    "    ).to_csv(\n",
    "        f\"{os.path.splitext(np_path)[0]}.utr.narrowPeak\",\n",
    "        sep=\"\\t\",\n",
    "        index=False,\n",
    "        header=False,\n",
    "    )\n",
    "\n",
    "    # check whether there are overlapping regions (after dropping duplicates)\n",
    "    for s in [\"+\", \"-\"]:\n",
    "        chr2arr = {\n",
    "            c: np.zeros(df_peak_g.query(f\"chrom == '{c}'\").end.max())\n",
    "            for c in df_peak_g.chrom.unique()\n",
    "        }\n",
    "        for name, row in (\n",
    "            df_peak_g.query(f\"strand == '{s}'\")[[\"chrom\", \"start\", \"end\", \"strand\"]]\n",
    "            .drop_duplicates()\n",
    "            .iterrows()\n",
    "        ):\n",
    "            chrom = row[\"chrom\"]\n",
    "            start = row[\"start\"]\n",
    "            end = row[\"end\"]\n",
    "            chr2arr[chrom][start:end] += 1\n",
    "        for chr_ in chr2arr:\n",
    "            max_count = pd.Series(chr2arr[chr_]).value_counts().index.max()\n",
    "            if max_count > 1:\n",
    "                print(f\"WARNING: {chr_} has overlapping regions\")\n",
    "    # there is no overlapping regions if the maximum count is 1"
   ]
  },
  {
   "cell_type": "markdown",
   "metadata": {},
   "source": [
    "### Get mapping from transcript id to gene id"
   ]
  },
  {
   "cell_type": "code",
   "execution_count": 7,
   "metadata": {},
   "outputs": [],
   "source": [
    "from glob import glob\n",
    "\n",
    "import numpy as np\n",
    "from scipy import sparse as ss\n",
    "import pandas as pd\n",
    "import polars as pl\n",
    "import scanpy as sc\n",
    "from tqdm.auto import tqdm, trange"
   ]
  },
  {
   "cell_type": "code",
   "execution_count": 8,
   "metadata": {},
   "outputs": [
    {
     "name": "stdout",
     "output_type": "stream",
     "text": [
      "The autoreload extension is already loaded. To reload it, use:\n",
      "  %reload_ext autoreload\n"
     ]
    }
   ],
   "source": [
    "%load_ext autoreload\n",
    "%autoreload 2"
   ]
  },
  {
   "cell_type": "code",
   "execution_count": 9,
   "metadata": {},
   "outputs": [],
   "source": [
    "from utils import load_annotation\n",
    "from utils_annot import get_gene2name, get_trp2gene"
   ]
  },
  {
   "cell_type": "code",
   "execution_count": 10,
   "metadata": {},
   "outputs": [],
   "source": [
    "def extract_visium_spot_info_gene_id_count(\n",
    "    data_dir: str, count_file: str, cells: list[str]\n",
    ") -> tuple[pd.DataFrame, pd.Series, ss.csr_matrix]:\n",
    "    \"\"\"\n",
    "    Extract cell information from a h5 file.\n",
    "\n",
    "    Args:\n",
    "    data_dir (str): Directory containing the h5 file.\n",
    "    count_file (str): Name of the h5 file.\n",
    "    cells (list[str]): List of cell names.\n",
    "\n",
    "    Returns:\n",
    "    pd.DataFrame: DataFrame containing cell information.\n",
    "    \"\"\"\n",
    "    adata = sc.read_visium(data_dir, count_file=count_file)\n",
    "    spot_info = adata.obs[[\"in_tissue\", \"array_row\", \"array_col\"]]\n",
    "    spot_info.index = spot_info.index.map(lambda x: x.split(\"-\")[0])\n",
    "    spot_info = spot_info.loc[cells]\n",
    "    count = adata.X\n",
    "    gene_names = adata.var[\"gene_ids\"]\n",
    "    return spot_info, gene_names, count\n",
    "\n",
    "\n",
    "def read_spot_info(tissue_position_file: str) -> pd.DataFrame:\n",
    "    \"\"\"Read the tissue position file from space ranger output.\n",
    "\n",
    "    The format of this file changed when space ranger was updated to 2.0, when it added\n",
    "        header and changed file name from tissue_positions_list.csv to\n",
    "        tissue_positions.csv. Also for visium HD, the file changed from csv format to\n",
    "        parquet. The function here deals with all these cases.\n",
    "\n",
    "    Number of rows in this file is:\n",
    "        - 4,992 for 6.5mm capture area\n",
    "        - 14,336 for 11mm capture area\n",
    "        - 11,222,500 for 2um Visium HD\n",
    "    \"\"\"\n",
    "    if tissue_position_file.endswith(\".parquet\"):\n",
    "        spot_info = pd.read_parquet(tissue_position_file)\n",
    "    else:\n",
    "        has_header = False\n",
    "        with open(tissue_position_file, \"r\") as f:\n",
    "            first_line = f.readline()\n",
    "            if first_line.startswith(\"barcode\"):\n",
    "                has_header = True\n",
    "        if has_header:\n",
    "            names = None\n",
    "        else:\n",
    "            names = [\n",
    "                \"barcode\",\n",
    "                \"in_tissue\",\n",
    "                \"array_row\",\n",
    "                \"array_col\",\n",
    "                \"pxl_row_in_fullres\",\n",
    "                \"pxl_col_in_fullres\",\n",
    "            ]\n",
    "        spot_info = pd.read_csv(tissue_position_file, names=names)\n",
    "    assert spot_info.shape[0] in [\n",
    "        4992,\n",
    "        14336,\n",
    "        11222500,\n",
    "    ], f\"Unexpected number of rows: {spot_info.shape[0]}\"\n",
    "    return spot_info\n",
    "\n",
    "\n",
    "# def get_trp2gene(df: pd.DataFrame) -> dict[str, str]:\n",
    "#     # iter through the attribute column of each row and exact string like\n",
    "#     # Parent=gene:ENSMUSG00000051951;Name=ENSMUSG00000051951, i.e., look for Parent=gene:xx and Name=xx\n",
    "#     to_gene = {}\n",
    "#     for _, row in tqdm(df.iterrows(), total=len(df)):\n",
    "#         parent_gene_id, element_id = None, None\n",
    "#         for attr in row[\"attribute\"].split(\";\"):\n",
    "#             if attr.startswith(\"Parent=gene:\"):\n",
    "#                 parent_gene_id = attr.split(\":\")[1]\n",
    "#             elif attr.startswith(\"ID=transcript:\"):\n",
    "#                 element_id = attr.split(\":\")[1]\n",
    "#         if parent_gene_id and element_id:\n",
    "#             if parent_gene_id in to_gene:\n",
    "#                 if not to_gene[element_id] == parent_gene_id:\n",
    "#                     print(\n",
    "#                         f\"Inconsistent gene names for {element_id}: {to_gene[element_id]} vs {parent_gene_id}\"\n",
    "#                     )\n",
    "#             else:\n",
    "#                 to_gene[element_id] = parent_gene_id\n",
    "#     return to_gene\n",
    "\n",
    "\n",
    "# def get_gene2name(df: pd.DataFrame) -> dict[str, str]:\n",
    "#     gene2name = {}\n",
    "#     for i, row in df.query(\"feature == 'gene'\").iterrows():\n",
    "#         gene_id, gene_name = None, None\n",
    "#         for attr in row[\"attribute\"].split(\";\"):\n",
    "#             if attr.startswith(\"ID=gene:\"):\n",
    "#                 gene_id = attr.split(\":\")[1]\n",
    "#             elif attr.startswith(\"Name=\"):\n",
    "#                 gene_name = attr.split(\"=\")[1]\n",
    "#         if gene_id is not None:\n",
    "#             if gene_id in gene2name:\n",
    "#                 if not gene2name[gene_id] == gene_name:\n",
    "#                     print(\n",
    "#                         f\"Inconsistent gene names for {gene_id}: {gene2name[gene_id]} vs {gene_name}\"\n",
    "#                     )\n",
    "#             else:\n",
    "#                 gene2name[gene_id] = gene_name\n",
    "#     return gene2name\n",
    "\n",
    "\n",
    "def construct_apa_dataset(\n",
    "    df_count: pl.DataFrame,\n",
    "    gene2peaks: dict[str, list[str]],\n",
    "    cells: list[str] | np.ndarray | None,\n",
    ") -> dict[int, tuple[np.ndarray, pd.DataFrame]]:\n",
    "    # for each num_peaks, for example num_peaks == 2, construct a np matrix of shape\n",
    "    # (num_genes_with_this_num_peaks, num_peaks, num_cells), save to npz format\n",
    "    if cells is None:\n",
    "        cells = df_count[\"cell\"].unique()\n",
    "    gene_num_peaks = pd.Series({gene: len(peaks) for gene, peaks in gene2peaks.items()})\n",
    "    ret = {}\n",
    "    for num_peaks in gene_num_peaks.unique():\n",
    "        if num_peaks == 1:\n",
    "            continue\n",
    "        num_cells = len(cells)\n",
    "        genes_with_num_peaks = gene_num_peaks[\n",
    "            gene_num_peaks == num_peaks\n",
    "        ].index.to_numpy()\n",
    "        count = df_count.filter(pl.col(\"gene\").is_in(genes_with_num_peaks))\n",
    "        count_arrs = []\n",
    "        for gene in tqdm(genes_with_num_peaks):\n",
    "            count_g = count.filter(pl.col(\"gene\") == gene)\n",
    "            peaks = gene2peaks[gene]\n",
    "            apaxcell = (\n",
    "                pl.Series(peaks)\n",
    "                .to_frame(\"apa_site_name\")\n",
    "                .join(pl.Series(cells).to_frame(\"cell\"), how=\"cross\")\n",
    "            )\n",
    "            count_gene_arr = (\n",
    "                apaxcell.join(count_g, on=[\"cell\", \"apa_site_name\"], how=\"left\")[\n",
    "                    \"counts\"\n",
    "                ]\n",
    "                .to_numpy()\n",
    "                .reshape(num_peaks, num_cells)\n",
    "            )\n",
    "            count_arrs.append(count_gene_arr)\n",
    "        count_arr = np.nan_to_num(np.stack(count_arrs), 0).astype(int)\n",
    "        ret[num_peaks] = (\n",
    "            count_arr,\n",
    "            pd.DataFrame.from_dict(\n",
    "                {g: gene2peaks[g] for g in genes_with_num_peaks},\n",
    "                orient=\"index\",\n",
    "                columns=[f\"apa_peak_{i}\" for i in range(num_peaks)],\n",
    "            ),\n",
    "        )\n",
    "    return ret"
   ]
  },
  {
   "cell_type": "code",
   "execution_count": 11,
   "metadata": {},
   "outputs": [],
   "source": [
    "# ref_data_path = \"/mnt/c/aws_data/data/ensembl/pub/release-98\"\n",
    "# data_dir_10x = \"/mnt/c/aws_data/data/10x\"\n",
    "# apa_data_dir = \"/mnt/c/aws_data/data/SpatialSplicing/apa\"\n",
    "# exp_name = \"visium_fresh_frozen_adult_mouse_brain\"\n",
    "# species = \"mus_musculus\"\n",
    "# annot_path = glob(f\"{ref_data_path}/gff3/{species}/*.chr_prefix.gff3.gz\")[0]\n",
    "# peak_path = glob(f\"{data_dir_10x}/{exp_name}/*.sorted.macs3_peaks.tsv\")[0]\n",
    "# annot_path = \"/mnt/c/aws_data/data/10x/space_ranger/reference/refdata-gex-GRCh38-2020-A/genes/genes.sorted.gtf\"\n",
    "# count_path = f\"{apa_data_dir}/{exp_name}/umi_tools_out/counts.tsv.gz\"\n",
    "# npz_path = f\"{apa_data_dir}/{exp_name}/spatialsplicing/mtx_apa_{{}}.npz\"\n",
    "# apa_tsv_path = f\"{apa_data_dir}/{exp_name}/spatialsplicing/genes_apa_{{}}.tsv\"\n",
    "# spot_info_path = f\"{apa_data_dir}/{exp_name}/spatialsplicing/cells.csv\"\n",
    "# gene_ids_save = f\"{apa_data_dir}/{exp_name}/spatialsplicing/gene_ids.csv\"\n",
    "# gene_count_save = f\"{apa_data_dir}/{exp_name}/spatialsplicing/gene_count.csv\"\n",
    "annot_path = \"/mnt/c/aws_data/data/gencode/Gencode_human/release_32/gencode.v32.annotation.gff3.gz\""
   ]
  },
  {
   "cell_type": "code",
   "execution_count": 12,
   "metadata": {},
   "outputs": [
    {
     "name": "stdout",
     "output_type": "stream",
     "text": [
      "feature\n",
      "exon                                      1372308\n",
      "CDS                                        762268\n",
      "transcript                                 227462\n",
      "three_prime_UTR                            154015\n",
      "five_prime_UTR                             152793\n",
      "start_codon                                 87662\n",
      "stop_codon                                  79913\n",
      "gene                                        60608\n",
      "stop_codon_redefined_as_selenocysteine        119\n",
      "Name: count, dtype: int64\n"
     ]
    },
    {
     "data": {
      "application/vnd.jupyter.widget-view+json": {
       "model_id": "361610de865841c7a02070b5968d3871",
       "version_major": 2,
       "version_minor": 0
      },
      "text/plain": [
       "  0%|          | 0/2897148 [00:00<?, ?it/s]"
      ]
     },
     "metadata": {},
     "output_type": "display_data"
    },
    {
     "data": {
      "application/vnd.jupyter.widget-view+json": {
       "model_id": "e04821e093294f899972b7c5ffaf4e83",
       "version_major": 2,
       "version_minor": 0
      },
      "text/plain": [
       "  0%|          | 0/60608 [00:00<?, ?it/s]"
      ]
     },
     "metadata": {},
     "output_type": "display_data"
    },
    {
     "data": {
      "text/plain": [
       "(227301, 60563)"
      ]
     },
     "execution_count": 12,
     "metadata": {},
     "output_type": "execute_result"
    }
   ],
   "source": [
    "df = load_annotation(annot_path)\n",
    "print(df.feature.value_counts())\n",
    "to_gene = get_trp2gene(df, flavor=\"gencode-gff3\")\n",
    "gene2name = get_gene2name(df, flavor=\"gencode-gff3\")\n",
    "len(to_gene), len(gene2name)"
   ]
  },
  {
   "cell_type": "code",
   "execution_count": 13,
   "metadata": {},
   "outputs": [
    {
     "data": {
      "text/plain": [
       "0.9999912010945838"
      ]
     },
     "execution_count": 13,
     "metadata": {},
     "output_type": "execute_result"
    }
   ],
   "source": [
    "sum(g in gene2name for g in to_gene.values()) / len(to_gene)\n",
    "# those not in the gene2name dict might be lncRNA or other non-coding RNA"
   ]
  },
  {
   "cell_type": "code",
   "execution_count": 14,
   "metadata": {},
   "outputs": [
    {
     "name": "stdout",
     "output_type": "stream",
     "text": [
      "18\n"
     ]
    }
   ],
   "source": [
    "if \"gff\" in annot_path:\n",
    "    print(df.query(\"feature == 'three_prime_UTR'\").attribute.str.count(\";\").max())\n",
    "elif \"gtf\" in annot_path:\n",
    "    print(df.query(\"feature == 'UTR'\").attribute.str.count(\"transcript_id\").max())\n",
    "else:\n",
    "    raise NotImplementedError"
   ]
  },
  {
   "cell_type": "code",
   "execution_count": 15,
   "metadata": {},
   "outputs": [
    {
     "data": {
      "application/vnd.jupyter.widget-view+json": {
       "model_id": "19d5e45cec744953b4f2df0724116300",
       "version_major": 2,
       "version_minor": 0
      },
      "text/plain": [
       "  0%|          | 0/12 [00:00<?, ?it/s]"
      ]
     },
     "metadata": {},
     "output_type": "display_data"
    },
    {
     "name": "stdout",
     "output_type": "stream",
     "text": [
      "(26183, 6)\n",
      "56636 transcripts appear in the peak df.\n",
      "56636 of them can be mapped to genes.\n",
      "ENSG00000109339.23    129\n",
      "ENSG00000075711.21    112\n",
      "ENSG00000198561.13     86\n",
      "ENSG00000108433.16     81\n",
      "ENSG00000169255.15     80\n",
      "                     ... \n",
      "ENSG00000169228.14      1\n",
      "ENSG00000129244.9       1\n",
      "ENSG00000169223.15      1\n",
      "ENSG00000169220.18      1\n",
      "ENSG00000142252.11      1\n",
      "Name: count, Length: 13602, dtype: int64\n",
      "parent_genes\n",
      "1     25429\n",
      "2       735\n",
      "3        13\n",
      "4         2\n",
      "9         2\n",
      "15        1\n",
      "22        1\n",
      "Name: count, dtype: int64\n",
      "1     6093\n",
      "2     3586\n",
      "3     1929\n",
      "4      839\n",
      "5      320\n",
      "6      134\n",
      "7       50\n",
      "8       15\n",
      "9        7\n",
      "10       5\n",
      "11       2\n",
      "12       1\n",
      "Name: count, dtype: int64\n",
      "Number of cells in APA count table:  4907\n"
     ]
    },
    {
     "data": {
      "application/vnd.jupyter.widget-view+json": {
       "model_id": "9f68d2afd5da4b83925edc860e3c8f12",
       "version_major": 2,
       "version_minor": 0
      },
      "text/plain": [
       "  0%|          | 0/3586 [00:00<?, ?it/s]"
      ]
     },
     "metadata": {},
     "output_type": "display_data"
    },
    {
     "data": {
      "application/vnd.jupyter.widget-view+json": {
       "model_id": "10ee1266c16345309b19acf57b2b5202",
       "version_major": 2,
       "version_minor": 0
      },
      "text/plain": [
       "  0%|          | 0/1929 [00:00<?, ?it/s]"
      ]
     },
     "metadata": {},
     "output_type": "display_data"
    },
    {
     "data": {
      "application/vnd.jupyter.widget-view+json": {
       "model_id": "231520e17bc24ae9bc936a0a75b66c60",
       "version_major": 2,
       "version_minor": 0
      },
      "text/plain": [
       "  0%|          | 0/839 [00:00<?, ?it/s]"
      ]
     },
     "metadata": {},
     "output_type": "display_data"
    },
    {
     "data": {
      "application/vnd.jupyter.widget-view+json": {
       "model_id": "6d2790f536104ad599d03d0127b621d0",
       "version_major": 2,
       "version_minor": 0
      },
      "text/plain": [
       "  0%|          | 0/134 [00:00<?, ?it/s]"
      ]
     },
     "metadata": {},
     "output_type": "display_data"
    },
    {
     "data": {
      "application/vnd.jupyter.widget-view+json": {
       "model_id": "8a0be445023243ba85e932869c1ae5af",
       "version_major": 2,
       "version_minor": 0
      },
      "text/plain": [
       "  0%|          | 0/320 [00:00<?, ?it/s]"
      ]
     },
     "metadata": {},
     "output_type": "display_data"
    },
    {
     "data": {
      "application/vnd.jupyter.widget-view+json": {
       "model_id": "d673c25a4c5442cf9656ad1bde96b64d",
       "version_major": 2,
       "version_minor": 0
      },
      "text/plain": [
       "  0%|          | 0/15 [00:00<?, ?it/s]"
      ]
     },
     "metadata": {},
     "output_type": "display_data"
    },
    {
     "data": {
      "application/vnd.jupyter.widget-view+json": {
       "model_id": "9913bd44febd4305b78c42c3fb63fa81",
       "version_major": 2,
       "version_minor": 0
      },
      "text/plain": [
       "  0%|          | 0/50 [00:00<?, ?it/s]"
      ]
     },
     "metadata": {},
     "output_type": "display_data"
    },
    {
     "data": {
      "application/vnd.jupyter.widget-view+json": {
       "model_id": "19f8789e4dc7467e82d61c971db1249c",
       "version_major": 2,
       "version_minor": 0
      },
      "text/plain": [
       "  0%|          | 0/7 [00:00<?, ?it/s]"
      ]
     },
     "metadata": {},
     "output_type": "display_data"
    },
    {
     "data": {
      "application/vnd.jupyter.widget-view+json": {
       "model_id": "817bf0df773b4f89942afe94d6666515",
       "version_major": 2,
       "version_minor": 0
      },
      "text/plain": [
       "  0%|          | 0/2 [00:00<?, ?it/s]"
      ]
     },
     "metadata": {},
     "output_type": "display_data"
    },
    {
     "data": {
      "application/vnd.jupyter.widget-view+json": {
       "model_id": "ae1a006e434148cd906dfaaee9d5b31c",
       "version_major": 2,
       "version_minor": 0
      },
      "text/plain": [
       "  0%|          | 0/5 [00:00<?, ?it/s]"
      ]
     },
     "metadata": {},
     "output_type": "display_data"
    },
    {
     "data": {
      "application/vnd.jupyter.widget-view+json": {
       "model_id": "f780a9bb1ba446f7b1991a992c64fcd2",
       "version_major": 2,
       "version_minor": 0
      },
      "text/plain": [
       "  0%|          | 0/1 [00:00<?, ?it/s]"
      ]
     },
     "metadata": {},
     "output_type": "display_data"
    },
    {
     "name": "stderr",
     "output_type": "stream",
     "text": [
      "/home/whatever60/miniforge3/lib/python3.10/site-packages/anndata/_core/anndata.py:1899: UserWarning: Variable names are not unique. To make them unique, call `.var_names_make_unique`.\n",
      "  utils.warn_names_duplicates(\"var\")\n",
      "/home/whatever60/miniforge3/lib/python3.10/site-packages/anndata/_core/anndata.py:1899: UserWarning: Variable names are not unique. To make them unique, call `.var_names_make_unique`.\n",
      "  utils.warn_names_duplicates(\"var\")\n"
     ]
    },
    {
     "name": "stdout",
     "output_type": "stream",
     "text": [
      "adata shape (1185, 36601)\n",
      "(26375, 6)\n",
      "56856 transcripts appear in the peak df.\n",
      "56856 of them can be mapped to genes.\n",
      "ENSG00000109339.23    123\n",
      "ENSG00000198561.13    115\n",
      "ENSG00000075711.21     85\n",
      "ENSG00000169255.15     82\n",
      "ENSG00000108433.16     79\n",
      "                     ... \n",
      "ENSG00000173175.14      1\n",
      "ENSG00000173702.7       1\n",
      "ENSG00000180767.10      1\n",
      "ENSG00000239620.2       1\n",
      "ENSG00000155903.12      1\n",
      "Name: count, Length: 13381, dtype: int64\n",
      "parent_genes\n",
      "1     25657\n",
      "2       704\n",
      "3         8\n",
      "4         2\n",
      "9         2\n",
      "15        1\n",
      "22        1\n",
      "Name: count, dtype: int64\n",
      "1     5785\n",
      "2     3582\n",
      "3     1932\n",
      "4      911\n",
      "5      344\n",
      "6      139\n",
      "7       64\n",
      "8       19\n",
      "9        8\n",
      "10       3\n",
      "12       1\n",
      "Name: count, dtype: int64\n",
      "Number of cells in APA count table:  4991\n"
     ]
    },
    {
     "data": {
      "application/vnd.jupyter.widget-view+json": {
       "model_id": "71c872efb294416b911af0d6e8fe204f",
       "version_major": 2,
       "version_minor": 0
      },
      "text/plain": [
       "  0%|          | 0/3582 [00:00<?, ?it/s]"
      ]
     },
     "metadata": {},
     "output_type": "display_data"
    },
    {
     "data": {
      "application/vnd.jupyter.widget-view+json": {
       "model_id": "14df579d50434b3d94872a02d2a878df",
       "version_major": 2,
       "version_minor": 0
      },
      "text/plain": [
       "  0%|          | 0/1932 [00:00<?, ?it/s]"
      ]
     },
     "metadata": {},
     "output_type": "display_data"
    },
    {
     "data": {
      "application/vnd.jupyter.widget-view+json": {
       "model_id": "40194cab5e4d4459a02ec65371470bba",
       "version_major": 2,
       "version_minor": 0
      },
      "text/plain": [
       "  0%|          | 0/911 [00:00<?, ?it/s]"
      ]
     },
     "metadata": {},
     "output_type": "display_data"
    },
    {
     "data": {
      "application/vnd.jupyter.widget-view+json": {
       "model_id": "25cc5de674a1491a9689a26592116a8e",
       "version_major": 2,
       "version_minor": 0
      },
      "text/plain": [
       "  0%|          | 0/139 [00:00<?, ?it/s]"
      ]
     },
     "metadata": {},
     "output_type": "display_data"
    },
    {
     "data": {
      "application/vnd.jupyter.widget-view+json": {
       "model_id": "335fed6bd758460b90713de28a4b348a",
       "version_major": 2,
       "version_minor": 0
      },
      "text/plain": [
       "  0%|          | 0/344 [00:00<?, ?it/s]"
      ]
     },
     "metadata": {},
     "output_type": "display_data"
    },
    {
     "data": {
      "application/vnd.jupyter.widget-view+json": {
       "model_id": "067612ec01534421be733ee8a441ef66",
       "version_major": 2,
       "version_minor": 0
      },
      "text/plain": [
       "  0%|          | 0/19 [00:00<?, ?it/s]"
      ]
     },
     "metadata": {},
     "output_type": "display_data"
    },
    {
     "data": {
      "application/vnd.jupyter.widget-view+json": {
       "model_id": "473436365a0b4fe88be15caaaca60715",
       "version_major": 2,
       "version_minor": 0
      },
      "text/plain": [
       "  0%|          | 0/64 [00:00<?, ?it/s]"
      ]
     },
     "metadata": {},
     "output_type": "display_data"
    },
    {
     "data": {
      "application/vnd.jupyter.widget-view+json": {
       "model_id": "45aff878d4bd4947a8f630dbe6ea07d4",
       "version_major": 2,
       "version_minor": 0
      },
      "text/plain": [
       "  0%|          | 0/3 [00:00<?, ?it/s]"
      ]
     },
     "metadata": {},
     "output_type": "display_data"
    },
    {
     "data": {
      "application/vnd.jupyter.widget-view+json": {
       "model_id": "dc2f419d06f8406f905eee6ddc5a0903",
       "version_major": 2,
       "version_minor": 0
      },
      "text/plain": [
       "  0%|          | 0/8 [00:00<?, ?it/s]"
      ]
     },
     "metadata": {},
     "output_type": "display_data"
    },
    {
     "data": {
      "application/vnd.jupyter.widget-view+json": {
       "model_id": "fdfaad4a18574c129c299ec0471f3df3",
       "version_major": 2,
       "version_minor": 0
      },
      "text/plain": [
       "  0%|          | 0/1 [00:00<?, ?it/s]"
      ]
     },
     "metadata": {},
     "output_type": "display_data"
    },
    {
     "name": "stderr",
     "output_type": "stream",
     "text": [
      "/home/whatever60/miniforge3/lib/python3.10/site-packages/anndata/_core/anndata.py:1899: UserWarning: Variable names are not unique. To make them unique, call `.var_names_make_unique`.\n",
      "  utils.warn_names_duplicates(\"var\")\n",
      "/home/whatever60/miniforge3/lib/python3.10/site-packages/anndata/_core/anndata.py:1899: UserWarning: Variable names are not unique. To make them unique, call `.var_names_make_unique`.\n",
      "  utils.warn_names_duplicates(\"var\")\n"
     ]
    },
    {
     "name": "stdout",
     "output_type": "stream",
     "text": [
      "adata shape (1836, 36601)\n",
      "(27591, 6)\n",
      "59339 transcripts appear in the peak df.\n",
      "59339 of them can be mapped to genes.\n",
      "ENSG00000109339.23    332\n",
      "ENSG00000145362.19    142\n",
      "ENSG00000075711.21    123\n",
      "ENSG00000198561.13    114\n",
      "ENSG00000196628.18    102\n",
      "                     ... \n",
      "ENSG00000162881.6       1\n",
      "ENSG00000156970.12      1\n",
      "ENSG00000285162.1       1\n",
      "ENSG00000176532.4       1\n",
      "ENSG00000152672.8       1\n",
      "Name: count, Length: 13590, dtype: int64\n",
      "parent_genes\n",
      "1     26829\n",
      "2       750\n",
      "3         8\n",
      "4         2\n",
      "9         1\n",
      "22        1\n",
      "Name: count, dtype: int64\n",
      "1     5680\n",
      "2     3731\n",
      "3     1985\n",
      "4      951\n",
      "5      375\n",
      "6      200\n",
      "7       66\n",
      "8       21\n",
      "9       13\n",
      "10       6\n",
      "11       3\n",
      "13       1\n",
      "Name: count, dtype: int64\n",
      "Number of cells in APA count table:  4986\n"
     ]
    },
    {
     "data": {
      "application/vnd.jupyter.widget-view+json": {
       "model_id": "05d9bb0282f544d898976008a75f5598",
       "version_major": 2,
       "version_minor": 0
      },
      "text/plain": [
       "  0%|          | 0/3731 [00:00<?, ?it/s]"
      ]
     },
     "metadata": {},
     "output_type": "display_data"
    },
    {
     "data": {
      "application/vnd.jupyter.widget-view+json": {
       "model_id": "daa9dc54d03440ccb003b9a835758928",
       "version_major": 2,
       "version_minor": 0
      },
      "text/plain": [
       "  0%|          | 0/1985 [00:00<?, ?it/s]"
      ]
     },
     "metadata": {},
     "output_type": "display_data"
    },
    {
     "data": {
      "application/vnd.jupyter.widget-view+json": {
       "model_id": "4420e5e74d90407ba41bd60c3667cd91",
       "version_major": 2,
       "version_minor": 0
      },
      "text/plain": [
       "  0%|          | 0/951 [00:00<?, ?it/s]"
      ]
     },
     "metadata": {},
     "output_type": "display_data"
    },
    {
     "data": {
      "application/vnd.jupyter.widget-view+json": {
       "model_id": "aeb0ea5909024d09be718002a00bb3a5",
       "version_major": 2,
       "version_minor": 0
      },
      "text/plain": [
       "  0%|          | 0/200 [00:00<?, ?it/s]"
      ]
     },
     "metadata": {},
     "output_type": "display_data"
    },
    {
     "data": {
      "application/vnd.jupyter.widget-view+json": {
       "model_id": "6898b7eef05d48d3afaa0c6f56f7e843",
       "version_major": 2,
       "version_minor": 0
      },
      "text/plain": [
       "  0%|          | 0/375 [00:00<?, ?it/s]"
      ]
     },
     "metadata": {},
     "output_type": "display_data"
    },
    {
     "data": {
      "application/vnd.jupyter.widget-view+json": {
       "model_id": "a4dd614f98f54d6ba440acd78403a1e1",
       "version_major": 2,
       "version_minor": 0
      },
      "text/plain": [
       "  0%|          | 0/66 [00:00<?, ?it/s]"
      ]
     },
     "metadata": {},
     "output_type": "display_data"
    },
    {
     "data": {
      "application/vnd.jupyter.widget-view+json": {
       "model_id": "c1488c194c5248f883b983e36b26b957",
       "version_major": 2,
       "version_minor": 0
      },
      "text/plain": [
       "  0%|          | 0/21 [00:00<?, ?it/s]"
      ]
     },
     "metadata": {},
     "output_type": "display_data"
    },
    {
     "data": {
      "application/vnd.jupyter.widget-view+json": {
       "model_id": "5ba00c80fa5f4d07aaaf93740230837f",
       "version_major": 2,
       "version_minor": 0
      },
      "text/plain": [
       "  0%|          | 0/13 [00:00<?, ?it/s]"
      ]
     },
     "metadata": {},
     "output_type": "display_data"
    },
    {
     "data": {
      "application/vnd.jupyter.widget-view+json": {
       "model_id": "acc1ed25953643eba95add3531b597c3",
       "version_major": 2,
       "version_minor": 0
      },
      "text/plain": [
       "  0%|          | 0/6 [00:00<?, ?it/s]"
      ]
     },
     "metadata": {},
     "output_type": "display_data"
    },
    {
     "data": {
      "application/vnd.jupyter.widget-view+json": {
       "model_id": "6a1e2645744e43e397c776d4a72e2238",
       "version_major": 2,
       "version_minor": 0
      },
      "text/plain": [
       "  0%|          | 0/3 [00:00<?, ?it/s]"
      ]
     },
     "metadata": {},
     "output_type": "display_data"
    },
    {
     "data": {
      "application/vnd.jupyter.widget-view+json": {
       "model_id": "ebd26127ac6e45b498216585a9bb2f44",
       "version_major": 2,
       "version_minor": 0
      },
      "text/plain": [
       "  0%|          | 0/1 [00:00<?, ?it/s]"
      ]
     },
     "metadata": {},
     "output_type": "display_data"
    },
    {
     "name": "stderr",
     "output_type": "stream",
     "text": [
      "/home/whatever60/miniforge3/lib/python3.10/site-packages/anndata/_core/anndata.py:1899: UserWarning: Variable names are not unique. To make them unique, call `.var_names_make_unique`.\n",
      "  utils.warn_names_duplicates(\"var\")\n",
      "/home/whatever60/miniforge3/lib/python3.10/site-packages/anndata/_core/anndata.py:1899: UserWarning: Variable names are not unique. To make them unique, call `.var_names_make_unique`.\n",
      "  utils.warn_names_duplicates(\"var\")\n"
     ]
    },
    {
     "name": "stdout",
     "output_type": "stream",
     "text": [
      "adata shape (969, 36601)\n",
      "(27799, 6)\n",
      "59650 transcripts appear in the peak df.\n",
      "59650 of them can be mapped to genes.\n",
      "ENSG00000075711.21    169\n",
      "ENSG00000109339.23     94\n",
      "ENSG00000198561.13     86\n",
      "ENSG00000108433.16     82\n",
      "ENSG00000169255.15     78\n",
      "                     ... \n",
      "ENSG00000174156.15      1\n",
      "ENSG00000170899.11      1\n",
      "ENSG00000275793.1       1\n",
      "ENSG00000274252.1       1\n",
      "ENSG00000139515.6       1\n",
      "Name: count, Length: 13944, dtype: int64\n",
      "parent_genes\n",
      "1     26999\n",
      "2       784\n",
      "3        12\n",
      "4         2\n",
      "9         1\n",
      "22        1\n",
      "Name: count, dtype: int64\n",
      "1     5989\n",
      "2     3739\n",
      "3     1951\n",
      "4      927\n",
      "5      441\n",
      "6      176\n",
      "7       55\n",
      "8       24\n",
      "9        7\n",
      "10       7\n",
      "Name: count, dtype: int64\n",
      "Number of cells in APA count table:  4992\n"
     ]
    },
    {
     "data": {
      "application/vnd.jupyter.widget-view+json": {
       "model_id": "9d0892f864cc46d9acc22443136f39f5",
       "version_major": 2,
       "version_minor": 0
      },
      "text/plain": [
       "  0%|          | 0/3739 [00:00<?, ?it/s]"
      ]
     },
     "metadata": {},
     "output_type": "display_data"
    },
    {
     "data": {
      "application/vnd.jupyter.widget-view+json": {
       "model_id": "49d538937e094209b1ee8b8195741dd2",
       "version_major": 2,
       "version_minor": 0
      },
      "text/plain": [
       "  0%|          | 0/1951 [00:00<?, ?it/s]"
      ]
     },
     "metadata": {},
     "output_type": "display_data"
    },
    {
     "data": {
      "application/vnd.jupyter.widget-view+json": {
       "model_id": "c134714fab9b45468e0357e61a8bcd7b",
       "version_major": 2,
       "version_minor": 0
      },
      "text/plain": [
       "  0%|          | 0/927 [00:00<?, ?it/s]"
      ]
     },
     "metadata": {},
     "output_type": "display_data"
    },
    {
     "data": {
      "application/vnd.jupyter.widget-view+json": {
       "model_id": "32b7cbc426d54a8b8fd3ec6b29ce8d6a",
       "version_major": 2,
       "version_minor": 0
      },
      "text/plain": [
       "  0%|          | 0/176 [00:00<?, ?it/s]"
      ]
     },
     "metadata": {},
     "output_type": "display_data"
    },
    {
     "data": {
      "application/vnd.jupyter.widget-view+json": {
       "model_id": "c4464a0e38744b82a6c8e3dbe9e487f0",
       "version_major": 2,
       "version_minor": 0
      },
      "text/plain": [
       "  0%|          | 0/441 [00:00<?, ?it/s]"
      ]
     },
     "metadata": {},
     "output_type": "display_data"
    },
    {
     "data": {
      "application/vnd.jupyter.widget-view+json": {
       "model_id": "c815fb55ddda409b9458bbf3bb4cfc2b",
       "version_major": 2,
       "version_minor": 0
      },
      "text/plain": [
       "  0%|          | 0/55 [00:00<?, ?it/s]"
      ]
     },
     "metadata": {},
     "output_type": "display_data"
    },
    {
     "data": {
      "application/vnd.jupyter.widget-view+json": {
       "model_id": "add79bdb273b4a1fbf2c87c3301ac675",
       "version_major": 2,
       "version_minor": 0
      },
      "text/plain": [
       "  0%|          | 0/24 [00:00<?, ?it/s]"
      ]
     },
     "metadata": {},
     "output_type": "display_data"
    },
    {
     "data": {
      "application/vnd.jupyter.widget-view+json": {
       "model_id": "b86cb3c437ea48499463f32504930358",
       "version_major": 2,
       "version_minor": 0
      },
      "text/plain": [
       "  0%|          | 0/7 [00:00<?, ?it/s]"
      ]
     },
     "metadata": {},
     "output_type": "display_data"
    },
    {
     "data": {
      "application/vnd.jupyter.widget-view+json": {
       "model_id": "b16a96ad45e2422aafeb899407c52378",
       "version_major": 2,
       "version_minor": 0
      },
      "text/plain": [
       "  0%|          | 0/7 [00:00<?, ?it/s]"
      ]
     },
     "metadata": {},
     "output_type": "display_data"
    },
    {
     "name": "stderr",
     "output_type": "stream",
     "text": [
      "/home/whatever60/miniforge3/lib/python3.10/site-packages/anndata/_core/anndata.py:1899: UserWarning: Variable names are not unique. To make them unique, call `.var_names_make_unique`.\n",
      "  utils.warn_names_duplicates(\"var\")\n",
      "/home/whatever60/miniforge3/lib/python3.10/site-packages/anndata/_core/anndata.py:1899: UserWarning: Variable names are not unique. To make them unique, call `.var_names_make_unique`.\n",
      "  utils.warn_names_duplicates(\"var\")\n"
     ]
    },
    {
     "name": "stdout",
     "output_type": "stream",
     "text": [
      "adata shape (2046, 36601)\n",
      "(23107, 6)\n",
      "50736 transcripts appear in the peak df.\n",
      "50736 of them can be mapped to genes.\n",
      "ENSG00000145362.19    143\n",
      "ENSG00000109339.23     92\n",
      "ENSG00000198561.13     86\n",
      "ENSG00000198836.10     64\n",
      "ENSG00000169255.15     62\n",
      "                     ... \n",
      "ENSG00000204439.4       1\n",
      "ENSG00000198171.13      1\n",
      "ENSG00000240053.8       1\n",
      "ENSG00000099385.11      1\n",
      "ENSG00000090382.6       1\n",
      "Name: count, Length: 13263, dtype: int64\n",
      "parent_genes\n",
      "1     22423\n",
      "2       672\n",
      "3        10\n",
      "15        1\n",
      "22        1\n",
      "Name: count, dtype: int64\n",
      "1     6651\n",
      "2     3525\n",
      "3     1525\n",
      "4      609\n",
      "5      203\n",
      "6       69\n",
      "7       19\n",
      "8       11\n",
      "10       2\n",
      "9        2\n",
      "12       1\n",
      "11       1\n",
      "Name: count, dtype: int64\n",
      "Number of cells in APA count table:  4989\n"
     ]
    },
    {
     "data": {
      "application/vnd.jupyter.widget-view+json": {
       "model_id": "7c51619c19c24d8b8d0fd355bfa6a4d8",
       "version_major": 2,
       "version_minor": 0
      },
      "text/plain": [
       "  0%|          | 0/3525 [00:00<?, ?it/s]"
      ]
     },
     "metadata": {},
     "output_type": "display_data"
    },
    {
     "data": {
      "application/vnd.jupyter.widget-view+json": {
       "model_id": "ed1a02871a82426faec86f20e2657ad4",
       "version_major": 2,
       "version_minor": 0
      },
      "text/plain": [
       "  0%|          | 0/1525 [00:00<?, ?it/s]"
      ]
     },
     "metadata": {},
     "output_type": "display_data"
    },
    {
     "data": {
      "application/vnd.jupyter.widget-view+json": {
       "model_id": "6730a65881234017be0c738ec9e4cc56",
       "version_major": 2,
       "version_minor": 0
      },
      "text/plain": [
       "  0%|          | 0/609 [00:00<?, ?it/s]"
      ]
     },
     "metadata": {},
     "output_type": "display_data"
    },
    {
     "data": {
      "application/vnd.jupyter.widget-view+json": {
       "model_id": "06301fa8a8fa45f28c3ffb1ee8aab354",
       "version_major": 2,
       "version_minor": 0
      },
      "text/plain": [
       "  0%|          | 0/203 [00:00<?, ?it/s]"
      ]
     },
     "metadata": {},
     "output_type": "display_data"
    },
    {
     "data": {
      "application/vnd.jupyter.widget-view+json": {
       "model_id": "5cd8b55cda6a4fce9cc24f8b2979ce73",
       "version_major": 2,
       "version_minor": 0
      },
      "text/plain": [
       "  0%|          | 0/69 [00:00<?, ?it/s]"
      ]
     },
     "metadata": {},
     "output_type": "display_data"
    },
    {
     "data": {
      "application/vnd.jupyter.widget-view+json": {
       "model_id": "3aa49e01817c45d596e96c0a91a1c64d",
       "version_major": 2,
       "version_minor": 0
      },
      "text/plain": [
       "  0%|          | 0/19 [00:00<?, ?it/s]"
      ]
     },
     "metadata": {},
     "output_type": "display_data"
    },
    {
     "data": {
      "application/vnd.jupyter.widget-view+json": {
       "model_id": "d5ca4135d1da4ab1b02a681a088ac9da",
       "version_major": 2,
       "version_minor": 0
      },
      "text/plain": [
       "  0%|          | 0/11 [00:00<?, ?it/s]"
      ]
     },
     "metadata": {},
     "output_type": "display_data"
    },
    {
     "data": {
      "application/vnd.jupyter.widget-view+json": {
       "model_id": "7f38485319194886943365a6ee4f80da",
       "version_major": 2,
       "version_minor": 0
      },
      "text/plain": [
       "  0%|          | 0/2 [00:00<?, ?it/s]"
      ]
     },
     "metadata": {},
     "output_type": "display_data"
    },
    {
     "data": {
      "application/vnd.jupyter.widget-view+json": {
       "model_id": "2cf410c70f0d49fca4e38be20340d5ca",
       "version_major": 2,
       "version_minor": 0
      },
      "text/plain": [
       "  0%|          | 0/2 [00:00<?, ?it/s]"
      ]
     },
     "metadata": {},
     "output_type": "display_data"
    },
    {
     "data": {
      "application/vnd.jupyter.widget-view+json": {
       "model_id": "abb1a76069b14f7488d8a6fb0c95b3ed",
       "version_major": 2,
       "version_minor": 0
      },
      "text/plain": [
       "  0%|          | 0/1 [00:00<?, ?it/s]"
      ]
     },
     "metadata": {},
     "output_type": "display_data"
    },
    {
     "data": {
      "application/vnd.jupyter.widget-view+json": {
       "model_id": "768e5c8cc57b4763a1456bb4125787f7",
       "version_major": 2,
       "version_minor": 0
      },
      "text/plain": [
       "  0%|          | 0/1 [00:00<?, ?it/s]"
      ]
     },
     "metadata": {},
     "output_type": "display_data"
    },
    {
     "name": "stderr",
     "output_type": "stream",
     "text": [
      "/home/whatever60/miniforge3/lib/python3.10/site-packages/anndata/_core/anndata.py:1899: UserWarning: Variable names are not unique. To make them unique, call `.var_names_make_unique`.\n",
      "  utils.warn_names_duplicates(\"var\")\n",
      "/home/whatever60/miniforge3/lib/python3.10/site-packages/anndata/_core/anndata.py:1899: UserWarning: Variable names are not unique. To make them unique, call `.var_names_make_unique`.\n",
      "  utils.warn_names_duplicates(\"var\")\n"
     ]
    },
    {
     "name": "stdout",
     "output_type": "stream",
     "text": [
      "adata shape (1678, 36601)\n",
      "(24980, 6)\n",
      "54661 transcripts appear in the peak df.\n",
      "54661 of them can be mapped to genes.\n",
      "ENSG00000109339.23    100\n",
      "ENSG00000075711.21     91\n",
      "ENSG00000119950.21     80\n",
      "ENSG00000197563.11     79\n",
      "ENSG00000108433.16     78\n",
      "                     ... \n",
      "ENSG00000180423.4       1\n",
      "ENSG00000105063.19      1\n",
      "ENSG00000180089.5       1\n",
      "ENSG00000130024.15      1\n",
      "ENSG00000171724.3       1\n",
      "Name: count, Length: 13203, dtype: int64\n",
      "parent_genes\n",
      "1     24235\n",
      "2       733\n",
      "3         9\n",
      "4         2\n",
      "22        1\n",
      "Name: count, dtype: int64\n",
      "1     6036\n",
      "2     3506\n",
      "3     1732\n",
      "4      785\n",
      "5      333\n",
      "6      108\n",
      "7       52\n",
      "8       12\n",
      "9        5\n",
      "10       1\n",
      "12       1\n",
      "11       1\n",
      "Name: count, dtype: int64\n",
      "Number of cells in APA count table:  4992\n"
     ]
    },
    {
     "data": {
      "application/vnd.jupyter.widget-view+json": {
       "model_id": "371fa703981945fcb18a05133a05ab63",
       "version_major": 2,
       "version_minor": 0
      },
      "text/plain": [
       "  0%|          | 0/3506 [00:00<?, ?it/s]"
      ]
     },
     "metadata": {},
     "output_type": "display_data"
    },
    {
     "data": {
      "application/vnd.jupyter.widget-view+json": {
       "model_id": "098bcf4ad6aa481fb4a49ee23c2a1f4b",
       "version_major": 2,
       "version_minor": 0
      },
      "text/plain": [
       "  0%|          | 0/1732 [00:00<?, ?it/s]"
      ]
     },
     "metadata": {},
     "output_type": "display_data"
    },
    {
     "data": {
      "application/vnd.jupyter.widget-view+json": {
       "model_id": "442a2fce149e458f82a1f6aea73104c2",
       "version_major": 2,
       "version_minor": 0
      },
      "text/plain": [
       "  0%|          | 0/785 [00:00<?, ?it/s]"
      ]
     },
     "metadata": {},
     "output_type": "display_data"
    },
    {
     "data": {
      "application/vnd.jupyter.widget-view+json": {
       "model_id": "26e5bc8d54a64a6990695883a5a40129",
       "version_major": 2,
       "version_minor": 0
      },
      "text/plain": [
       "  0%|          | 0/333 [00:00<?, ?it/s]"
      ]
     },
     "metadata": {},
     "output_type": "display_data"
    },
    {
     "data": {
      "application/vnd.jupyter.widget-view+json": {
       "model_id": "21c7ec6fbe96495aae697db4e514b31e",
       "version_major": 2,
       "version_minor": 0
      },
      "text/plain": [
       "  0%|          | 0/52 [00:00<?, ?it/s]"
      ]
     },
     "metadata": {},
     "output_type": "display_data"
    },
    {
     "data": {
      "application/vnd.jupyter.widget-view+json": {
       "model_id": "7772f30893fe481490a04e3d55c5ab4d",
       "version_major": 2,
       "version_minor": 0
      },
      "text/plain": [
       "  0%|          | 0/108 [00:00<?, ?it/s]"
      ]
     },
     "metadata": {},
     "output_type": "display_data"
    },
    {
     "data": {
      "application/vnd.jupyter.widget-view+json": {
       "model_id": "cba4d5ca19314374870a4f505cdbc72a",
       "version_major": 2,
       "version_minor": 0
      },
      "text/plain": [
       "  0%|          | 0/5 [00:00<?, ?it/s]"
      ]
     },
     "metadata": {},
     "output_type": "display_data"
    },
    {
     "data": {
      "application/vnd.jupyter.widget-view+json": {
       "model_id": "d2d23bc8454d452b8b28100f16270708",
       "version_major": 2,
       "version_minor": 0
      },
      "text/plain": [
       "  0%|          | 0/12 [00:00<?, ?it/s]"
      ]
     },
     "metadata": {},
     "output_type": "display_data"
    },
    {
     "data": {
      "application/vnd.jupyter.widget-view+json": {
       "model_id": "a9d7406ef2954421be95023c5fbef50e",
       "version_major": 2,
       "version_minor": 0
      },
      "text/plain": [
       "  0%|          | 0/1 [00:00<?, ?it/s]"
      ]
     },
     "metadata": {},
     "output_type": "display_data"
    },
    {
     "data": {
      "application/vnd.jupyter.widget-view+json": {
       "model_id": "4b23dd290c3e476490795775d011b4ef",
       "version_major": 2,
       "version_minor": 0
      },
      "text/plain": [
       "  0%|          | 0/1 [00:00<?, ?it/s]"
      ]
     },
     "metadata": {},
     "output_type": "display_data"
    },
    {
     "data": {
      "application/vnd.jupyter.widget-view+json": {
       "model_id": "521ffc9b531c406a8a9d3d2549063c3a",
       "version_major": 2,
       "version_minor": 0
      },
      "text/plain": [
       "  0%|          | 0/1 [00:00<?, ?it/s]"
      ]
     },
     "metadata": {},
     "output_type": "display_data"
    },
    {
     "name": "stderr",
     "output_type": "stream",
     "text": [
      "/home/whatever60/miniforge3/lib/python3.10/site-packages/anndata/_core/anndata.py:1899: UserWarning: Variable names are not unique. To make them unique, call `.var_names_make_unique`.\n",
      "  utils.warn_names_duplicates(\"var\")\n",
      "/home/whatever60/miniforge3/lib/python3.10/site-packages/anndata/_core/anndata.py:1899: UserWarning: Variable names are not unique. To make them unique, call `.var_names_make_unique`.\n",
      "  utils.warn_names_duplicates(\"var\")\n"
     ]
    },
    {
     "name": "stdout",
     "output_type": "stream",
     "text": [
      "adata shape (3311, 36601)\n",
      "(25366, 6)\n",
      "55104 transcripts appear in the peak df.\n",
      "55104 of them can be mapped to genes.\n",
      "ENSG00000075711.21    112\n",
      "ENSG00000109339.23     89\n",
      "ENSG00000108433.16     88\n",
      "ENSG00000198561.13     86\n",
      "ENSG00000196628.18     79\n",
      "                     ... \n",
      "ENSG00000259529.2       1\n",
      "ENSG00000115590.14      1\n",
      "ENSG00000213928.9       1\n",
      "ENSG00000204568.12      1\n",
      "ENSG00000286265.1       1\n",
      "Name: count, Length: 13342, dtype: int64\n",
      "parent_genes\n",
      "1     24656\n",
      "2       698\n",
      "3         8\n",
      "4         1\n",
      "9         1\n",
      "15        1\n",
      "22        1\n",
      "Name: count, dtype: int64\n",
      "1     6031\n",
      "2     3500\n",
      "3     1856\n",
      "4      805\n",
      "5      299\n",
      "6      126\n",
      "7       47\n",
      "8       14\n",
      "9        8\n",
      "10       6\n",
      "13       1\n",
      "Name: count, dtype: int64\n",
      "Number of cells in APA count table:  4992\n"
     ]
    },
    {
     "data": {
      "application/vnd.jupyter.widget-view+json": {
       "model_id": "dbb5358ce0934532af92ab623d2388e3",
       "version_major": 2,
       "version_minor": 0
      },
      "text/plain": [
       "  0%|          | 0/3500 [00:00<?, ?it/s]"
      ]
     },
     "metadata": {},
     "output_type": "display_data"
    },
    {
     "data": {
      "application/vnd.jupyter.widget-view+json": {
       "model_id": "06dd93a649c54eafbf7daa96edfe8257",
       "version_major": 2,
       "version_minor": 0
      },
      "text/plain": [
       "  0%|          | 0/805 [00:00<?, ?it/s]"
      ]
     },
     "metadata": {},
     "output_type": "display_data"
    },
    {
     "data": {
      "application/vnd.jupyter.widget-view+json": {
       "model_id": "893bfba57ea14319a763976bab965b41",
       "version_major": 2,
       "version_minor": 0
      },
      "text/plain": [
       "  0%|          | 0/1856 [00:00<?, ?it/s]"
      ]
     },
     "metadata": {},
     "output_type": "display_data"
    },
    {
     "data": {
      "application/vnd.jupyter.widget-view+json": {
       "model_id": "64a7c3b536174d73afea78c14bc0bcf0",
       "version_major": 2,
       "version_minor": 0
      },
      "text/plain": [
       "  0%|          | 0/126 [00:00<?, ?it/s]"
      ]
     },
     "metadata": {},
     "output_type": "display_data"
    },
    {
     "data": {
      "application/vnd.jupyter.widget-view+json": {
       "model_id": "f5a9d6c1243d4041a98f0a94dddb5685",
       "version_major": 2,
       "version_minor": 0
      },
      "text/plain": [
       "  0%|          | 0/299 [00:00<?, ?it/s]"
      ]
     },
     "metadata": {},
     "output_type": "display_data"
    },
    {
     "data": {
      "application/vnd.jupyter.widget-view+json": {
       "model_id": "7f7790ab33e740e99add341a828d2990",
       "version_major": 2,
       "version_minor": 0
      },
      "text/plain": [
       "  0%|          | 0/47 [00:00<?, ?it/s]"
      ]
     },
     "metadata": {},
     "output_type": "display_data"
    },
    {
     "data": {
      "application/vnd.jupyter.widget-view+json": {
       "model_id": "09d23a935ec94faea34b2a4ccab94a83",
       "version_major": 2,
       "version_minor": 0
      },
      "text/plain": [
       "  0%|          | 0/8 [00:00<?, ?it/s]"
      ]
     },
     "metadata": {},
     "output_type": "display_data"
    },
    {
     "data": {
      "application/vnd.jupyter.widget-view+json": {
       "model_id": "7b85631dfe7a42ba85d04941e24bdb9c",
       "version_major": 2,
       "version_minor": 0
      },
      "text/plain": [
       "  0%|          | 0/14 [00:00<?, ?it/s]"
      ]
     },
     "metadata": {},
     "output_type": "display_data"
    },
    {
     "data": {
      "application/vnd.jupyter.widget-view+json": {
       "model_id": "56ff2e9fa6054bfd861fe57489c47121",
       "version_major": 2,
       "version_minor": 0
      },
      "text/plain": [
       "  0%|          | 0/6 [00:00<?, ?it/s]"
      ]
     },
     "metadata": {},
     "output_type": "display_data"
    },
    {
     "data": {
      "application/vnd.jupyter.widget-view+json": {
       "model_id": "73230c0c6747446281a449559f9c8cad",
       "version_major": 2,
       "version_minor": 0
      },
      "text/plain": [
       "  0%|          | 0/1 [00:00<?, ?it/s]"
      ]
     },
     "metadata": {},
     "output_type": "display_data"
    },
    {
     "name": "stderr",
     "output_type": "stream",
     "text": [
      "/home/whatever60/miniforge3/lib/python3.10/site-packages/anndata/_core/anndata.py:1899: UserWarning: Variable names are not unique. To make them unique, call `.var_names_make_unique`.\n",
      "  utils.warn_names_duplicates(\"var\")\n",
      "/home/whatever60/miniforge3/lib/python3.10/site-packages/anndata/_core/anndata.py:1899: UserWarning: Variable names are not unique. To make them unique, call `.var_names_make_unique`.\n",
      "  utils.warn_names_duplicates(\"var\")\n"
     ]
    },
    {
     "name": "stdout",
     "output_type": "stream",
     "text": [
      "adata shape (2860, 36601)\n",
      "(23170, 6)\n",
      "50537 transcripts appear in the peak df.\n",
      "50537 of them can be mapped to genes.\n",
      "ENSG00000075711.21    124\n",
      "ENSG00000109339.23    101\n",
      "ENSG00000198561.13     86\n",
      "ENSG00000169255.15     82\n",
      "ENSG00000137074.19     73\n",
      "                     ... \n",
      "ENSG00000082516.9       1\n",
      "ENSG00000226650.6       1\n",
      "ENSG00000231989.5       1\n",
      "ENSG00000103194.15      1\n",
      "ENSG00000159915.12      1\n",
      "Name: count, Length: 12778, dtype: int64\n",
      "parent_genes\n",
      "1     22504\n",
      "2       654\n",
      "3         8\n",
      "4         2\n",
      "9         1\n",
      "22        1\n",
      "Name: count, dtype: int64\n",
      "1     6086\n",
      "2     3461\n",
      "3     1646\n",
      "4      631\n",
      "5      255\n",
      "6       75\n",
      "7       32\n",
      "8        7\n",
      "10       2\n",
      "9        1\n",
      "Name: count, dtype: int64\n",
      "Number of cells in APA count table:  4991\n"
     ]
    },
    {
     "data": {
      "application/vnd.jupyter.widget-view+json": {
       "model_id": "80f33b9c12df4c2d91c54a8b9d6bb1f8",
       "version_major": 2,
       "version_minor": 0
      },
      "text/plain": [
       "  0%|          | 0/3461 [00:00<?, ?it/s]"
      ]
     },
     "metadata": {},
     "output_type": "display_data"
    },
    {
     "data": {
      "application/vnd.jupyter.widget-view+json": {
       "model_id": "7b32c9ebdb504adbbce3a0b79e3f55d0",
       "version_major": 2,
       "version_minor": 0
      },
      "text/plain": [
       "  0%|          | 0/1646 [00:00<?, ?it/s]"
      ]
     },
     "metadata": {},
     "output_type": "display_data"
    },
    {
     "data": {
      "application/vnd.jupyter.widget-view+json": {
       "model_id": "a49d615968864b688764ee58e68828d4",
       "version_major": 2,
       "version_minor": 0
      },
      "text/plain": [
       "  0%|          | 0/75 [00:00<?, ?it/s]"
      ]
     },
     "metadata": {},
     "output_type": "display_data"
    },
    {
     "data": {
      "application/vnd.jupyter.widget-view+json": {
       "model_id": "35a39d3eec8547e986058fb7593c2819",
       "version_major": 2,
       "version_minor": 0
      },
      "text/plain": [
       "  0%|          | 0/255 [00:00<?, ?it/s]"
      ]
     },
     "metadata": {},
     "output_type": "display_data"
    },
    {
     "data": {
      "application/vnd.jupyter.widget-view+json": {
       "model_id": "04856205991f4ba08add018cc7256a92",
       "version_major": 2,
       "version_minor": 0
      },
      "text/plain": [
       "  0%|          | 0/631 [00:00<?, ?it/s]"
      ]
     },
     "metadata": {},
     "output_type": "display_data"
    },
    {
     "data": {
      "application/vnd.jupyter.widget-view+json": {
       "model_id": "cdc4e829f30841a89de07a90e8819b8d",
       "version_major": 2,
       "version_minor": 0
      },
      "text/plain": [
       "  0%|          | 0/32 [00:00<?, ?it/s]"
      ]
     },
     "metadata": {},
     "output_type": "display_data"
    },
    {
     "data": {
      "application/vnd.jupyter.widget-view+json": {
       "model_id": "90edfdf751b8448a8c0c8de767f62c66",
       "version_major": 2,
       "version_minor": 0
      },
      "text/plain": [
       "  0%|          | 0/2 [00:00<?, ?it/s]"
      ]
     },
     "metadata": {},
     "output_type": "display_data"
    },
    {
     "data": {
      "application/vnd.jupyter.widget-view+json": {
       "model_id": "073bc4e810594cf7809fb7d03dcb10f0",
       "version_major": 2,
       "version_minor": 0
      },
      "text/plain": [
       "  0%|          | 0/7 [00:00<?, ?it/s]"
      ]
     },
     "metadata": {},
     "output_type": "display_data"
    },
    {
     "data": {
      "application/vnd.jupyter.widget-view+json": {
       "model_id": "37af58831bb14f17a997eb0c6680e058",
       "version_major": 2,
       "version_minor": 0
      },
      "text/plain": [
       "  0%|          | 0/1 [00:00<?, ?it/s]"
      ]
     },
     "metadata": {},
     "output_type": "display_data"
    },
    {
     "name": "stderr",
     "output_type": "stream",
     "text": [
      "/home/whatever60/miniforge3/lib/python3.10/site-packages/anndata/_core/anndata.py:1899: UserWarning: Variable names are not unique. To make them unique, call `.var_names_make_unique`.\n",
      "  utils.warn_names_duplicates(\"var\")\n",
      "/home/whatever60/miniforge3/lib/python3.10/site-packages/anndata/_core/anndata.py:1899: UserWarning: Variable names are not unique. To make them unique, call `.var_names_make_unique`.\n",
      "  utils.warn_names_duplicates(\"var\")\n"
     ]
    },
    {
     "name": "stdout",
     "output_type": "stream",
     "text": [
      "adata shape (2475, 36601)\n",
      "(23888, 6)\n",
      "51944 transcripts appear in the peak df.\n",
      "51944 of them can be mapped to genes.\n",
      "ENSG00000109339.23    102\n",
      "ENSG00000198561.13     86\n",
      "ENSG00000075711.21     84\n",
      "ENSG00000145362.19     71\n",
      "ENSG00000198836.10     65\n",
      "                     ... \n",
      "ENSG00000219607.3       1\n",
      "ENSG00000178386.13      1\n",
      "ENSG00000124491.15      1\n",
      "ENSG00000011422.12      1\n",
      "ENSG00000203778.8       1\n",
      "Name: count, Length: 13042, dtype: int64\n",
      "parent_genes\n",
      "1     23213\n",
      "2       665\n",
      "3         6\n",
      "4         2\n",
      "9         1\n",
      "22        1\n",
      "Name: count, dtype: int64\n",
      "1     6168\n",
      "2     3492\n",
      "3     1693\n",
      "4      694\n",
      "5      258\n",
      "6       90\n",
      "7       26\n",
      "8       18\n",
      "9        3\n",
      "11       1\n",
      "12       1\n",
      "Name: count, dtype: int64\n",
      "Number of cells in APA count table:  4992\n"
     ]
    },
    {
     "data": {
      "application/vnd.jupyter.widget-view+json": {
       "model_id": "226427ef5989454e97edb40ef612e1ae",
       "version_major": 2,
       "version_minor": 0
      },
      "text/plain": [
       "  0%|          | 0/3492 [00:00<?, ?it/s]"
      ]
     },
     "metadata": {},
     "output_type": "display_data"
    },
    {
     "data": {
      "application/vnd.jupyter.widget-view+json": {
       "model_id": "6644539922d649d382650b0054d36757",
       "version_major": 2,
       "version_minor": 0
      },
      "text/plain": [
       "  0%|          | 0/1693 [00:00<?, ?it/s]"
      ]
     },
     "metadata": {},
     "output_type": "display_data"
    },
    {
     "data": {
      "application/vnd.jupyter.widget-view+json": {
       "model_id": "ec7041ecf04844b4bfd42d43e7050220",
       "version_major": 2,
       "version_minor": 0
      },
      "text/plain": [
       "  0%|          | 0/694 [00:00<?, ?it/s]"
      ]
     },
     "metadata": {},
     "output_type": "display_data"
    },
    {
     "data": {
      "application/vnd.jupyter.widget-view+json": {
       "model_id": "247afb577e6c425d8171a28e3228e289",
       "version_major": 2,
       "version_minor": 0
      },
      "text/plain": [
       "  0%|          | 0/258 [00:00<?, ?it/s]"
      ]
     },
     "metadata": {},
     "output_type": "display_data"
    },
    {
     "data": {
      "application/vnd.jupyter.widget-view+json": {
       "model_id": "a58739c0d43d4813a91312c606d70c86",
       "version_major": 2,
       "version_minor": 0
      },
      "text/plain": [
       "  0%|          | 0/90 [00:00<?, ?it/s]"
      ]
     },
     "metadata": {},
     "output_type": "display_data"
    },
    {
     "data": {
      "application/vnd.jupyter.widget-view+json": {
       "model_id": "26c01d54a28540fbaf4bf6a80871f7ee",
       "version_major": 2,
       "version_minor": 0
      },
      "text/plain": [
       "  0%|          | 0/18 [00:00<?, ?it/s]"
      ]
     },
     "metadata": {},
     "output_type": "display_data"
    },
    {
     "data": {
      "application/vnd.jupyter.widget-view+json": {
       "model_id": "69a2a4be475a4219ae9a304313a915db",
       "version_major": 2,
       "version_minor": 0
      },
      "text/plain": [
       "  0%|          | 0/26 [00:00<?, ?it/s]"
      ]
     },
     "metadata": {},
     "output_type": "display_data"
    },
    {
     "data": {
      "application/vnd.jupyter.widget-view+json": {
       "model_id": "ae98691afa5147f486a2e03d53b803b4",
       "version_major": 2,
       "version_minor": 0
      },
      "text/plain": [
       "  0%|          | 0/3 [00:00<?, ?it/s]"
      ]
     },
     "metadata": {},
     "output_type": "display_data"
    },
    {
     "data": {
      "application/vnd.jupyter.widget-view+json": {
       "model_id": "86cf5132ab2f4eccab1010ccb1cf9eac",
       "version_major": 2,
       "version_minor": 0
      },
      "text/plain": [
       "  0%|          | 0/1 [00:00<?, ?it/s]"
      ]
     },
     "metadata": {},
     "output_type": "display_data"
    },
    {
     "data": {
      "application/vnd.jupyter.widget-view+json": {
       "model_id": "f9f8ee77476e4a8db4647138f528ba5e",
       "version_major": 2,
       "version_minor": 0
      },
      "text/plain": [
       "  0%|          | 0/1 [00:00<?, ?it/s]"
      ]
     },
     "metadata": {},
     "output_type": "display_data"
    },
    {
     "name": "stderr",
     "output_type": "stream",
     "text": [
      "/home/whatever60/miniforge3/lib/python3.10/site-packages/anndata/_core/anndata.py:1899: UserWarning: Variable names are not unique. To make them unique, call `.var_names_make_unique`.\n",
      "  utils.warn_names_duplicates(\"var\")\n",
      "/home/whatever60/miniforge3/lib/python3.10/site-packages/anndata/_core/anndata.py:1899: UserWarning: Variable names are not unique. To make them unique, call `.var_names_make_unique`.\n",
      "  utils.warn_names_duplicates(\"var\")\n"
     ]
    },
    {
     "name": "stdout",
     "output_type": "stream",
     "text": [
      "adata shape (3591, 36601)\n",
      "(24539, 6)\n",
      "53488 transcripts appear in the peak df.\n",
      "53488 of them can be mapped to genes.\n",
      "ENSG00000145362.19    143\n",
      "ENSG00000109339.23    101\n",
      "ENSG00000198561.13     86\n",
      "ENSG00000075711.21     85\n",
      "ENSG00000169255.15     80\n",
      "                     ... \n",
      "ENSG00000244474.5       1\n",
      "ENSG00000074706.13      1\n",
      "ENSG00000240224.1       1\n",
      "ENSG00000244122.2       1\n",
      "ENSG00000256043.3       1\n",
      "Name: count, Length: 13457, dtype: int64\n",
      "parent_genes\n",
      "1     23832\n",
      "2       691\n",
      "3        12\n",
      "4         2\n",
      "9         1\n",
      "22        1\n",
      "Name: count, dtype: int64\n",
      "1     6415\n",
      "2     3522\n",
      "3     1738\n",
      "4      716\n",
      "5      255\n",
      "6      107\n",
      "7       31\n",
      "8       12\n",
      "9        5\n",
      "10       2\n",
      "Name: count, dtype: int64\n",
      "Number of cells in APA count table:  4989\n"
     ]
    },
    {
     "data": {
      "application/vnd.jupyter.widget-view+json": {
       "model_id": "22ce9978ec0f460cb1770406bcc0a675",
       "version_major": 2,
       "version_minor": 0
      },
      "text/plain": [
       "  0%|          | 0/3522 [00:00<?, ?it/s]"
      ]
     },
     "metadata": {},
     "output_type": "display_data"
    },
    {
     "data": {
      "application/vnd.jupyter.widget-view+json": {
       "model_id": "403891e270d7413f9be778641d1aa397",
       "version_major": 2,
       "version_minor": 0
      },
      "text/plain": [
       "  0%|          | 0/1738 [00:00<?, ?it/s]"
      ]
     },
     "metadata": {},
     "output_type": "display_data"
    },
    {
     "data": {
      "application/vnd.jupyter.widget-view+json": {
       "model_id": "065145fbcabe4e08bae974532e6aff57",
       "version_major": 2,
       "version_minor": 0
      },
      "text/plain": [
       "  0%|          | 0/255 [00:00<?, ?it/s]"
      ]
     },
     "metadata": {},
     "output_type": "display_data"
    },
    {
     "data": {
      "application/vnd.jupyter.widget-view+json": {
       "model_id": "976932d5e8724c21857a9fc26c0b74ef",
       "version_major": 2,
       "version_minor": 0
      },
      "text/plain": [
       "  0%|          | 0/716 [00:00<?, ?it/s]"
      ]
     },
     "metadata": {},
     "output_type": "display_data"
    },
    {
     "data": {
      "application/vnd.jupyter.widget-view+json": {
       "model_id": "61e4c38db6bf4889b42086308a88449c",
       "version_major": 2,
       "version_minor": 0
      },
      "text/plain": [
       "  0%|          | 0/107 [00:00<?, ?it/s]"
      ]
     },
     "metadata": {},
     "output_type": "display_data"
    },
    {
     "data": {
      "application/vnd.jupyter.widget-view+json": {
       "model_id": "83ccf5c67f2142e7bed71166732b0d7f",
       "version_major": 2,
       "version_minor": 0
      },
      "text/plain": [
       "  0%|          | 0/12 [00:00<?, ?it/s]"
      ]
     },
     "metadata": {},
     "output_type": "display_data"
    },
    {
     "data": {
      "application/vnd.jupyter.widget-view+json": {
       "model_id": "7d24117c3d00446fad95223e2000e822",
       "version_major": 2,
       "version_minor": 0
      },
      "text/plain": [
       "  0%|          | 0/31 [00:00<?, ?it/s]"
      ]
     },
     "metadata": {},
     "output_type": "display_data"
    },
    {
     "data": {
      "application/vnd.jupyter.widget-view+json": {
       "model_id": "bce0ece0b4e944278ef42e3b2381a799",
       "version_major": 2,
       "version_minor": 0
      },
      "text/plain": [
       "  0%|          | 0/5 [00:00<?, ?it/s]"
      ]
     },
     "metadata": {},
     "output_type": "display_data"
    },
    {
     "data": {
      "application/vnd.jupyter.widget-view+json": {
       "model_id": "824cb173501545058e4683410508edb6",
       "version_major": 2,
       "version_minor": 0
      },
      "text/plain": [
       "  0%|          | 0/2 [00:00<?, ?it/s]"
      ]
     },
     "metadata": {},
     "output_type": "display_data"
    },
    {
     "name": "stderr",
     "output_type": "stream",
     "text": [
      "/home/whatever60/miniforge3/lib/python3.10/site-packages/anndata/_core/anndata.py:1899: UserWarning: Variable names are not unique. To make them unique, call `.var_names_make_unique`.\n",
      "  utils.warn_names_duplicates(\"var\")\n",
      "/home/whatever60/miniforge3/lib/python3.10/site-packages/anndata/_core/anndata.py:1899: UserWarning: Variable names are not unique. To make them unique, call `.var_names_make_unique`.\n",
      "  utils.warn_names_duplicates(\"var\")\n"
     ]
    },
    {
     "name": "stdout",
     "output_type": "stream",
     "text": [
      "adata shape (2731, 36601)\n",
      "(22575, 6)\n",
      "49906 transcripts appear in the peak df.\n",
      "49906 of them can be mapped to genes.\n",
      "ENSG00000109339.23    173\n",
      "ENSG00000145362.19    143\n",
      "ENSG00000198561.13     86\n",
      "ENSG00000164073.10     84\n",
      "ENSG00000169255.15     80\n",
      "                     ... \n",
      "ENSG00000107672.15      1\n",
      "ENSG00000124875.10      1\n",
      "ENSG00000187944.3       1\n",
      "ENSG00000188089.13      1\n",
      "ENSG00000260001.6       1\n",
      "Name: count, Length: 12981, dtype: int64\n",
      "parent_genes\n",
      "1     21909\n",
      "2       653\n",
      "3        11\n",
      "9         1\n",
      "22        1\n",
      "Name: count, dtype: int64\n",
      "1     6491\n",
      "2     3466\n",
      "3     1529\n",
      "4      596\n",
      "5      187\n",
      "6       56\n",
      "7       20\n",
      "8        8\n",
      "9        3\n",
      "13       1\n",
      "Name: count, dtype: int64\n",
      "Number of cells in APA count table:  4978\n"
     ]
    },
    {
     "data": {
      "application/vnd.jupyter.widget-view+json": {
       "model_id": "940a4033929f43e5aaf54ebf05226c48",
       "version_major": 2,
       "version_minor": 0
      },
      "text/plain": [
       "  0%|          | 0/3466 [00:00<?, ?it/s]"
      ]
     },
     "metadata": {},
     "output_type": "display_data"
    },
    {
     "data": {
      "application/vnd.jupyter.widget-view+json": {
       "model_id": "5095a59b2c594cf6a036ed39ca34acc7",
       "version_major": 2,
       "version_minor": 0
      },
      "text/plain": [
       "  0%|          | 0/1529 [00:00<?, ?it/s]"
      ]
     },
     "metadata": {},
     "output_type": "display_data"
    },
    {
     "data": {
      "application/vnd.jupyter.widget-view+json": {
       "model_id": "0745a2fecd0947b68e41063a85c5f2e0",
       "version_major": 2,
       "version_minor": 0
      },
      "text/plain": [
       "  0%|          | 0/56 [00:00<?, ?it/s]"
      ]
     },
     "metadata": {},
     "output_type": "display_data"
    },
    {
     "data": {
      "application/vnd.jupyter.widget-view+json": {
       "model_id": "3f55c28bdb8e42eea38a50c8438cf961",
       "version_major": 2,
       "version_minor": 0
      },
      "text/plain": [
       "  0%|          | 0/596 [00:00<?, ?it/s]"
      ]
     },
     "metadata": {},
     "output_type": "display_data"
    },
    {
     "data": {
      "application/vnd.jupyter.widget-view+json": {
       "model_id": "ae943ebd4943449a9c69c05f0c6baa2b",
       "version_major": 2,
       "version_minor": 0
      },
      "text/plain": [
       "  0%|          | 0/187 [00:00<?, ?it/s]"
      ]
     },
     "metadata": {},
     "output_type": "display_data"
    },
    {
     "data": {
      "application/vnd.jupyter.widget-view+json": {
       "model_id": "7a5847abdc024f829ef6a22802407bc0",
       "version_major": 2,
       "version_minor": 0
      },
      "text/plain": [
       "  0%|          | 0/20 [00:00<?, ?it/s]"
      ]
     },
     "metadata": {},
     "output_type": "display_data"
    },
    {
     "data": {
      "application/vnd.jupyter.widget-view+json": {
       "model_id": "903873e960384297918b6d46a9273c12",
       "version_major": 2,
       "version_minor": 0
      },
      "text/plain": [
       "  0%|          | 0/3 [00:00<?, ?it/s]"
      ]
     },
     "metadata": {},
     "output_type": "display_data"
    },
    {
     "data": {
      "application/vnd.jupyter.widget-view+json": {
       "model_id": "6c578d1f1a934bb29ce7c1757b8b1b24",
       "version_major": 2,
       "version_minor": 0
      },
      "text/plain": [
       "  0%|          | 0/8 [00:00<?, ?it/s]"
      ]
     },
     "metadata": {},
     "output_type": "display_data"
    },
    {
     "data": {
      "application/vnd.jupyter.widget-view+json": {
       "model_id": "6bc3cb2e511741d292c22c533546474a",
       "version_major": 2,
       "version_minor": 0
      },
      "text/plain": [
       "  0%|          | 0/1 [00:00<?, ?it/s]"
      ]
     },
     "metadata": {},
     "output_type": "display_data"
    },
    {
     "name": "stderr",
     "output_type": "stream",
     "text": [
      "/home/whatever60/miniforge3/lib/python3.10/site-packages/anndata/_core/anndata.py:1899: UserWarning: Variable names are not unique. To make them unique, call `.var_names_make_unique`.\n",
      "  utils.warn_names_duplicates(\"var\")\n",
      "/home/whatever60/miniforge3/lib/python3.10/site-packages/anndata/_core/anndata.py:1899: UserWarning: Variable names are not unique. To make them unique, call `.var_names_make_unique`.\n",
      "  utils.warn_names_duplicates(\"var\")\n"
     ]
    },
    {
     "name": "stdout",
     "output_type": "stream",
     "text": [
      "adata shape (2130, 36601)\n",
      "(22010, 6)\n",
      "48602 transcripts appear in the peak df.\n",
      "48602 of them can be mapped to genes.\n",
      "ENSG00000109339.23    103\n",
      "ENSG00000198561.13     86\n",
      "ENSG00000075711.21     85\n",
      "ENSG00000169255.15     81\n",
      "ENSG00000108433.16     79\n",
      "                     ... \n",
      "ENSG00000251380.3       1\n",
      "ENSG00000255833.2       1\n",
      "ENSG00000159593.15      1\n",
      "ENSG00000135720.13      1\n",
      "ENSG00000189114.7       1\n",
      "Name: count, Length: 13076, dtype: int64\n",
      "parent_genes\n",
      "1     21333\n",
      "2       668\n",
      "3         7\n",
      "9         1\n",
      "22        1\n",
      "Name: count, dtype: int64\n",
      "1    6808\n",
      "2    3428\n",
      "3    1424\n",
      "4     533\n",
      "5     162\n",
      "6      44\n",
      "7      14\n",
      "8       6\n",
      "9       5\n",
      "Name: count, dtype: int64\n",
      "Number of cells in APA count table:  4984\n"
     ]
    },
    {
     "data": {
      "application/vnd.jupyter.widget-view+json": {
       "model_id": "d8f58ef5c3564f8ebf8881d0e893ba0a",
       "version_major": 2,
       "version_minor": 0
      },
      "text/plain": [
       "  0%|          | 0/3428 [00:00<?, ?it/s]"
      ]
     },
     "metadata": {},
     "output_type": "display_data"
    },
    {
     "data": {
      "application/vnd.jupyter.widget-view+json": {
       "model_id": "1bc08a7130294b1eac56aa9d4c69828a",
       "version_major": 2,
       "version_minor": 0
      },
      "text/plain": [
       "  0%|          | 0/1424 [00:00<?, ?it/s]"
      ]
     },
     "metadata": {},
     "output_type": "display_data"
    },
    {
     "data": {
      "application/vnd.jupyter.widget-view+json": {
       "model_id": "9f90e726864b4f4ca0eef053c48227d8",
       "version_major": 2,
       "version_minor": 0
      },
      "text/plain": [
       "  0%|          | 0/533 [00:00<?, ?it/s]"
      ]
     },
     "metadata": {},
     "output_type": "display_data"
    },
    {
     "data": {
      "application/vnd.jupyter.widget-view+json": {
       "model_id": "38ac3ef6912548d3bebb8a5a334fb9e7",
       "version_major": 2,
       "version_minor": 0
      },
      "text/plain": [
       "  0%|          | 0/162 [00:00<?, ?it/s]"
      ]
     },
     "metadata": {},
     "output_type": "display_data"
    },
    {
     "data": {
      "application/vnd.jupyter.widget-view+json": {
       "model_id": "3261953e8f76405da1dcff55d1e29e3d",
       "version_major": 2,
       "version_minor": 0
      },
      "text/plain": [
       "  0%|          | 0/44 [00:00<?, ?it/s]"
      ]
     },
     "metadata": {},
     "output_type": "display_data"
    },
    {
     "data": {
      "application/vnd.jupyter.widget-view+json": {
       "model_id": "a9e19b9661104357a353f8346e31762a",
       "version_major": 2,
       "version_minor": 0
      },
      "text/plain": [
       "  0%|          | 0/14 [00:00<?, ?it/s]"
      ]
     },
     "metadata": {},
     "output_type": "display_data"
    },
    {
     "data": {
      "application/vnd.jupyter.widget-view+json": {
       "model_id": "267c762696084f3eb82be5e21232a347",
       "version_major": 2,
       "version_minor": 0
      },
      "text/plain": [
       "  0%|          | 0/6 [00:00<?, ?it/s]"
      ]
     },
     "metadata": {},
     "output_type": "display_data"
    },
    {
     "data": {
      "application/vnd.jupyter.widget-view+json": {
       "model_id": "7b00fdcc1ac54b31907f5697b12017dc",
       "version_major": 2,
       "version_minor": 0
      },
      "text/plain": [
       "  0%|          | 0/5 [00:00<?, ?it/s]"
      ]
     },
     "metadata": {},
     "output_type": "display_data"
    },
    {
     "name": "stderr",
     "output_type": "stream",
     "text": [
      "/home/whatever60/miniforge3/lib/python3.10/site-packages/anndata/_core/anndata.py:1899: UserWarning: Variable names are not unique. To make them unique, call `.var_names_make_unique`.\n",
      "  utils.warn_names_duplicates(\"var\")\n",
      "/home/whatever60/miniforge3/lib/python3.10/site-packages/anndata/_core/anndata.py:1899: UserWarning: Variable names are not unique. To make them unique, call `.var_names_make_unique`.\n",
      "  utils.warn_names_duplicates(\"var\")\n"
     ]
    },
    {
     "name": "stdout",
     "output_type": "stream",
     "text": [
      "adata shape (1559, 36601)\n"
     ]
    }
   ],
   "source": [
    "for sample_idx in trange(1, 13):\n",
    "    sample = f\"s{sample_idx}\"\n",
    "    peak_path = f\"/mnt/c/aws_data/data/arora_nc_2022/macs3_out/{sample}_peaks.tsv\"\n",
    "    count_path = (\n",
    "        f\"/mnt/c/aws_data/data/arora_nc_2022/umi_tools_out/{sample}_counts.tsv.gz\"\n",
    "    )\n",
    "    spot_info_path = f\"/mnt/c/aws_data/data/arora_nc_2022/GSE208253_RAW/{sample}_tissue_positions_list.csv\"\n",
    "    adata_path = f\"/mnt/c/aws_data/data/arora_nc_2022/GSE208253_RAW/{sample}_filtered_feature_bc_matrix.h5\"\n",
    "    npz_path = f\"/mnt/c/aws_data/data/arora_nc_2022/apa/{sample}_mtx_apa_{{}}.npz\"\n",
    "    apa_tsv_path = f\"/mnt/c/aws_data/data/arora_nc_2022/apa/{sample}_genes_apa_{{}}.tsv\"\n",
    "    spot_info_save = f\"/mnt/c/aws_data/data/arora_nc_2022/apa/{sample}_cells.csv\"\n",
    "    gene_ids_save = f\"/mnt/c/aws_data/data/arora_nc_2022/apa/{sample}_gene_ids.csv\"\n",
    "    gene_count_save = f\"/mnt/c/aws_data/data/arora_nc_2022/apa/{sample}_gene_count.csv\"\n",
    "    df_peak = pd.read_table(peak_path, index_col=0)\n",
    "    print(df_peak.shape)\n",
    "    if \"gff\" in annot_path:\n",
    "        parent_transcript_ids = [\n",
    "            j.split(\"=\")[1]\n",
    "            for attr in df_peak.utr_info.str.split(\";\")\n",
    "            for j in attr\n",
    "            if j.startswith(\"Parent=\")\n",
    "        ]\n",
    "    elif \"gtf\" in annot_path:\n",
    "        parent_transcript_ids = [\n",
    "            j.split()[1].strip('\"')\n",
    "            for attrs in df_peak.utr_info.str.split(\";;\")\n",
    "            for attr in attrs\n",
    "            for j in attr.split(\"; \")\n",
    "            if j.startswith(\"transcript_id \")\n",
    "        ]\n",
    "    else:\n",
    "        raise NotImplementedError\n",
    "    print(len(parent_transcript_ids), \"transcripts appear in the peak df.\")\n",
    "    print(\n",
    "        sum([i in to_gene for i in parent_transcript_ids]),\n",
    "        \"of them can be mapped to genes.\",\n",
    "    )\n",
    "    parent_gene_ids = [to_gene[i] for i in parent_transcript_ids if i in to_gene]\n",
    "    print(pd.Series(parent_gene_ids).value_counts())\n",
    "\n",
    "    df_peak[\"parent_transcripts\"] = df_peak.utr_info.apply(\n",
    "        lambda x: \";\".join(\n",
    "            [attr.split(\"=\")[-1] for attr in x.split(\";\") if attr.startswith(\"Parent=\")]\n",
    "        )\n",
    "    )\n",
    "    df_peak[\"parent_genes\"] = df_peak.parent_transcripts.apply(\n",
    "        lambda x: \";\".join(list(set(to_gene[i] for i in x.split(\";\"))))\n",
    "    )\n",
    "    peak2genes = df_peak.parent_genes.to_dict()\n",
    "    peaks_unambiguous = df_peak.query(\"~parent_genes.str.contains(';')\").index.tolist()\n",
    "    print((df_peak.parent_genes.str.count(\";\") + 1).value_counts())\n",
    "\n",
    "    gene2peaks = {}\n",
    "    # let's filter for those with only one parent gene so that 3' UTR count can be uniquely assigned to a gene\n",
    "    for peak_name, row in df_peak.query(\"~parent_genes.str.contains(';')\").iterrows():\n",
    "        gene = row.parent_genes\n",
    "        if gene in gene2peaks:\n",
    "            gene2peaks[gene].append(peak_name)\n",
    "        else:\n",
    "            gene2peaks[gene] = [peak_name]\n",
    "    print(pd.Series(gene2peaks).apply(len).value_counts())\n",
    "\n",
    "    # read peak count and remove ambiguous peaks\n",
    "    df_count = (\n",
    "        pl.read_csv(\n",
    "            count_path,\n",
    "            separator=\"\\t\",\n",
    "            new_columns=[\"apa_site_name\", \"cell\", \"counts\"],\n",
    "        )\n",
    "        .filter(pl.col(\"apa_site_name\").is_in(peaks_unambiguous))\n",
    "        .with_columns(gene=pl.col(\"apa_site_name\").replace(peak2genes))\n",
    "    )\n",
    "    cells = df_count[\"cell\"].unique()\n",
    "    print(\"Number of cells in APA count table: \", len(cells))\n",
    "\n",
    "    apa_data = construct_apa_dataset(df_count, gene2peaks, cells)\n",
    "    for num_peaks, (count_arr, genes_with_num_peaks) in apa_data.items():\n",
    "        np.savez_compressed(npz_path.format(num_peaks), count_arr)\n",
    "        genes_with_num_peaks.to_csv(apa_tsv_path.format(num_peaks), sep=\"\\t\")\n",
    "\n",
    "    # spot_info, gene_ids, count = extract_visium_spot_info_gene_id_count(\n",
    "    #     f\"{data_dir_10x}/{exp_name}\",\n",
    "    #     glob(f\"{data_dir_10x}/{exp_name}/*raw_feature_bc_matrix.h5\")[0],\n",
    "    #     cells,\n",
    "    # )\n",
    "\n",
    "    spot_info = read_spot_info(spot_info_path)\n",
    "    adata = sc.read_10x_h5(adata_path)\n",
    "    count = adata.X\n",
    "    gene_ids = adata.var.gene_ids\n",
    "    print(\"adata shape\", adata.shape)\n",
    "\n",
    "    # save visium spot information, a table with gene name and gene id from adata, and count matrix from adata.\n",
    "    spot_info.to_csv(spot_info_save)\n",
    "    gene_ids.to_csv(gene_ids_save, header=False)\n",
    "    ss.save_npz(gene_count_save, count)"
   ]
  },
  {
   "cell_type": "code",
   "execution_count": 19,
   "metadata": {},
   "outputs": [
    {
     "data": {
      "text/plain": [
       "(5, 9, 4984)"
      ]
     },
     "execution_count": 19,
     "metadata": {},
     "output_type": "execute_result"
    }
   ],
   "source": [
    "count_arr.shape"
   ]
  },
  {
   "cell_type": "code",
   "execution_count": 79,
   "metadata": {},
   "outputs": [],
   "source": []
  },
  {
   "cell_type": "code",
   "execution_count": null,
   "metadata": {},
   "outputs": [],
   "source": []
  },
  {
   "cell_type": "code",
   "execution_count": null,
   "metadata": {},
   "outputs": [],
   "source": []
  },
  {
   "cell_type": "code",
   "execution_count": null,
   "metadata": {},
   "outputs": [],
   "source": []
  },
  {
   "cell_type": "code",
   "execution_count": null,
   "metadata": {},
   "outputs": [],
   "source": []
  },
  {
   "cell_type": "code",
   "execution_count": null,
   "metadata": {},
   "outputs": [],
   "source": []
  },
  {
   "cell_type": "code",
   "execution_count": null,
   "metadata": {},
   "outputs": [],
   "source": []
  },
  {
   "cell_type": "code",
   "execution_count": 80,
   "metadata": {},
   "outputs": [
    {
     "name": "stderr",
     "output_type": "stream",
     "text": [
      "/home/whatever60/miniforge3/lib/python3.10/site-packages/anndata/_core/anndata.py:1899: UserWarning: Variable names are not unique. To make them unique, call `.var_names_make_unique`.\n",
      "  utils.warn_names_duplicates(\"var\")\n",
      "/home/whatever60/miniforge3/lib/python3.10/site-packages/anndata/_core/anndata.py:1899: UserWarning: Variable names are not unique. To make them unique, call `.var_names_make_unique`.\n",
      "  utils.warn_names_duplicates(\"var\")\n"
     ]
    },
    {
     "data": {
      "text/plain": [
       "<4992x32285 sparse matrix of type '<class 'numpy.float32'>'\n",
       "\twith 13743891 stored elements in Compressed Sparse Row format>"
      ]
     },
     "execution_count": 80,
     "metadata": {},
     "output_type": "execute_result"
    }
   ],
   "source": [
    "adata = sc.read_visium(\n",
    "    f\"{data_dir_10x}/{exp_name}\",\n",
    "    count_file=glob(f\"{data_dir_10x}/{exp_name}/*raw_feature_bc_matrix.h5\")[0],\n",
    ")\n",
    "adata.X"
   ]
  },
  {
   "cell_type": "code",
   "execution_count": 83,
   "metadata": {},
   "outputs": [
    {
     "data": {
      "text/html": [
       "<div>\n",
       "<style scoped>\n",
       "    .dataframe tbody tr th:only-of-type {\n",
       "        vertical-align: middle;\n",
       "    }\n",
       "\n",
       "    .dataframe tbody tr th {\n",
       "        vertical-align: top;\n",
       "    }\n",
       "\n",
       "    .dataframe thead th {\n",
       "        text-align: right;\n",
       "    }\n",
       "</style>\n",
       "<table border=\"1\" class=\"dataframe\">\n",
       "  <thead>\n",
       "    <tr style=\"text-align: right;\">\n",
       "      <th></th>\n",
       "      <th>gene_ids</th>\n",
       "      <th>feature_types</th>\n",
       "      <th>genome</th>\n",
       "    </tr>\n",
       "  </thead>\n",
       "  <tbody>\n",
       "    <tr>\n",
       "      <th>Xkr4</th>\n",
       "      <td>ENSMUSG00000051951</td>\n",
       "      <td>Gene Expression</td>\n",
       "      <td>mm10</td>\n",
       "    </tr>\n",
       "    <tr>\n",
       "      <th>Gm1992</th>\n",
       "      <td>ENSMUSG00000089699</td>\n",
       "      <td>Gene Expression</td>\n",
       "      <td>mm10</td>\n",
       "    </tr>\n",
       "    <tr>\n",
       "      <th>Gm19938</th>\n",
       "      <td>ENSMUSG00000102331</td>\n",
       "      <td>Gene Expression</td>\n",
       "      <td>mm10</td>\n",
       "    </tr>\n",
       "    <tr>\n",
       "      <th>Gm37381</th>\n",
       "      <td>ENSMUSG00000102343</td>\n",
       "      <td>Gene Expression</td>\n",
       "      <td>mm10</td>\n",
       "    </tr>\n",
       "    <tr>\n",
       "      <th>Rp1</th>\n",
       "      <td>ENSMUSG00000025900</td>\n",
       "      <td>Gene Expression</td>\n",
       "      <td>mm10</td>\n",
       "    </tr>\n",
       "    <tr>\n",
       "      <th>...</th>\n",
       "      <td>...</td>\n",
       "      <td>...</td>\n",
       "      <td>...</td>\n",
       "    </tr>\n",
       "    <tr>\n",
       "      <th>AC124606.1</th>\n",
       "      <td>ENSMUSG00000095523</td>\n",
       "      <td>Gene Expression</td>\n",
       "      <td>mm10</td>\n",
       "    </tr>\n",
       "    <tr>\n",
       "      <th>AC133095.2</th>\n",
       "      <td>ENSMUSG00000095475</td>\n",
       "      <td>Gene Expression</td>\n",
       "      <td>mm10</td>\n",
       "    </tr>\n",
       "    <tr>\n",
       "      <th>AC133095.1</th>\n",
       "      <td>ENSMUSG00000094855</td>\n",
       "      <td>Gene Expression</td>\n",
       "      <td>mm10</td>\n",
       "    </tr>\n",
       "    <tr>\n",
       "      <th>AC234645.1</th>\n",
       "      <td>ENSMUSG00000095019</td>\n",
       "      <td>Gene Expression</td>\n",
       "      <td>mm10</td>\n",
       "    </tr>\n",
       "    <tr>\n",
       "      <th>AC149090.1</th>\n",
       "      <td>ENSMUSG00000095041</td>\n",
       "      <td>Gene Expression</td>\n",
       "      <td>mm10</td>\n",
       "    </tr>\n",
       "  </tbody>\n",
       "</table>\n",
       "<p>32285 rows × 3 columns</p>\n",
       "</div>"
      ],
      "text/plain": [
       "                      gene_ids    feature_types genome\n",
       "Xkr4        ENSMUSG00000051951  Gene Expression   mm10\n",
       "Gm1992      ENSMUSG00000089699  Gene Expression   mm10\n",
       "Gm19938     ENSMUSG00000102331  Gene Expression   mm10\n",
       "Gm37381     ENSMUSG00000102343  Gene Expression   mm10\n",
       "Rp1         ENSMUSG00000025900  Gene Expression   mm10\n",
       "...                        ...              ...    ...\n",
       "AC124606.1  ENSMUSG00000095523  Gene Expression   mm10\n",
       "AC133095.2  ENSMUSG00000095475  Gene Expression   mm10\n",
       "AC133095.1  ENSMUSG00000094855  Gene Expression   mm10\n",
       "AC234645.1  ENSMUSG00000095019  Gene Expression   mm10\n",
       "AC149090.1  ENSMUSG00000095041  Gene Expression   mm10\n",
       "\n",
       "[32285 rows x 3 columns]"
      ]
     },
     "execution_count": 83,
     "metadata": {},
     "output_type": "execute_result"
    }
   ],
   "source": [
    "adata.var"
   ]
  },
  {
   "cell_type": "code",
   "execution_count": null,
   "metadata": {},
   "outputs": [],
   "source": []
  },
  {
   "cell_type": "code",
   "execution_count": null,
   "metadata": {},
   "outputs": [],
   "source": []
  },
  {
   "cell_type": "code",
   "execution_count": null,
   "metadata": {},
   "outputs": [],
   "source": []
  },
  {
   "cell_type": "code",
   "execution_count": null,
   "metadata": {},
   "outputs": [],
   "source": []
  },
  {
   "cell_type": "code",
   "execution_count": 101,
   "metadata": {},
   "outputs": [],
   "source": [
    "gff = pd.read_table(\n",
    "    f\"{ref_data_path}/gff3/{species}/Mus_musculus.GRCm38.98.chr_prefix.gff3.gz\",\n",
    "    header=None,\n",
    "    comment=\"#\",\n",
    "    names=[\n",
    "        \"chrom\",\n",
    "        \"source\",\n",
    "        \"feature\",\n",
    "        \"start\",\n",
    "        \"end\",\n",
    "        \"score\",\n",
    "        \"strand\",\n",
    "        \"frame\",\n",
    "        \"attribute\",\n",
    "    ],\n",
    ")"
   ]
  },
  {
   "cell_type": "code",
   "execution_count": 110,
   "metadata": {},
   "outputs": [
    {
     "data": {
      "text/plain": [
       "0          ID=chromosome:1;Alias=CM000994.2,NC_000067.6,chr1\n",
       "1                external_name=rank %3D 1;logic_name=firstef\n",
       "2          external_name=CH29-168G11 (start);logic_name=m...\n",
       "3          external_name=CH29-168H10 (start);logic_name=m...\n",
       "4          external_name=DN-332C11 (end);logic_name=mouse...\n",
       "                                 ...                        \n",
       "3893614    ID=gene:ENSMUSG00000096850;Name=Gm21748;biotyp...\n",
       "3893615    ID=transcript:ENSMUST00000179623;Parent=gene:E...\n",
       "3893616    Parent=transcript:ENSMUST00000179623;Name=ENSM...\n",
       "3893617    ID=CDS:ENSMUSP00000137361;Parent=transcript:EN...\n",
       "3893618             external_name=Pseudo;logic_name=trnascan\n",
       "Name: attribute, Length: 3893619, dtype: object"
      ]
     },
     "execution_count": 110,
     "metadata": {},
     "output_type": "execute_result"
    }
   ],
   "source": [
    "gff."
   ]
  },
  {
   "cell_type": "code",
   "execution_count": 115,
   "metadata": {},
   "outputs": [
    {
     "data": {
      "text/plain": [
       "'/mnt/c/aws_data/data/ensembl/pub/release-98/gff3/mus_musculus/Mus_musculus.GRCm38.98.chr_prefix.gff3.gz'"
      ]
     },
     "execution_count": 115,
     "metadata": {},
     "output_type": "execute_result"
    }
   ],
   "source": [
    "f\"{ref_data_path}/gff3/{species}/Mus_musculus.GRCm38.98.chr_prefix.gff3.gz\""
   ]
  },
  {
   "cell_type": "code",
   "execution_count": 114,
   "metadata": {},
   "outputs": [
    {
     "data": {
      "text/plain": [
       "'Parent=transcript:ENSMUST00000193450;Name=ENSMUSE00001345089;constitutive=0;ensembl_end_phase=-1;ensembl_phase=-1;exon_id=ENSMUSE00001345089;rank=1;version=1'"
      ]
     },
     "execution_count": 114,
     "metadata": {},
     "output_type": "execute_result"
    }
   ],
   "source": [
    "gff.query(\"feature == 'exon'\").attribute.iloc[100]"
   ]
  },
  {
   "cell_type": "code",
   "execution_count": 103,
   "metadata": {},
   "outputs": [
    {
     "data": {
      "text/html": [
       "<div>\n",
       "<style scoped>\n",
       "    .dataframe tbody tr th:only-of-type {\n",
       "        vertical-align: middle;\n",
       "    }\n",
       "\n",
       "    .dataframe tbody tr th {\n",
       "        vertical-align: top;\n",
       "    }\n",
       "\n",
       "    .dataframe thead th {\n",
       "        text-align: right;\n",
       "    }\n",
       "</style>\n",
       "<table border=\"1\" class=\"dataframe\">\n",
       "  <thead>\n",
       "    <tr style=\"text-align: right;\">\n",
       "      <th></th>\n",
       "      <th>chrom</th>\n",
       "      <th>source</th>\n",
       "      <th>feature</th>\n",
       "      <th>start</th>\n",
       "      <th>end</th>\n",
       "      <th>score</th>\n",
       "      <th>strand</th>\n",
       "      <th>frame</th>\n",
       "      <th>attribute</th>\n",
       "    </tr>\n",
       "  </thead>\n",
       "  <tbody>\n",
       "    <tr>\n",
       "      <th>61</th>\n",
       "      <td>chr1</td>\n",
       "      <td>ensembl_havana</td>\n",
       "      <td>three_prime_UTR</td>\n",
       "      <td>3214482</td>\n",
       "      <td>3216021</td>\n",
       "      <td>.</td>\n",
       "      <td>-</td>\n",
       "      <td>.</td>\n",
       "      <td>Parent=transcript:ENSMUST00000070533</td>\n",
       "    </tr>\n",
       "    <tr>\n",
       "      <th>659</th>\n",
       "      <td>chr1</td>\n",
       "      <td>ensembl_havana</td>\n",
       "      <td>three_prime_UTR</td>\n",
       "      <td>4344146</td>\n",
       "      <td>4344599</td>\n",
       "      <td>.</td>\n",
       "      <td>-</td>\n",
       "      <td>.</td>\n",
       "      <td>Parent=transcript:ENSMUST00000027032</td>\n",
       "    </tr>\n",
       "    <tr>\n",
       "      <th>905</th>\n",
       "      <td>chr1</td>\n",
       "      <td>ensembl_havana</td>\n",
       "      <td>three_prime_UTR</td>\n",
       "      <td>4490931</td>\n",
       "      <td>4491715</td>\n",
       "      <td>.</td>\n",
       "      <td>-</td>\n",
       "      <td>.</td>\n",
       "      <td>Parent=transcript:ENSMUST00000027035</td>\n",
       "    </tr>\n",
       "    <tr>\n",
       "      <th>918</th>\n",
       "      <td>chr1</td>\n",
       "      <td>havana</td>\n",
       "      <td>three_prime_UTR</td>\n",
       "      <td>4491250</td>\n",
       "      <td>4491715</td>\n",
       "      <td>.</td>\n",
       "      <td>-</td>\n",
       "      <td>.</td>\n",
       "      <td>Parent=transcript:ENSMUST00000195555</td>\n",
       "    </tr>\n",
       "    <tr>\n",
       "      <th>927</th>\n",
       "      <td>chr1</td>\n",
       "      <td>havana</td>\n",
       "      <td>three_prime_UTR</td>\n",
       "      <td>4491390</td>\n",
       "      <td>4491715</td>\n",
       "      <td>.</td>\n",
       "      <td>-</td>\n",
       "      <td>.</td>\n",
       "      <td>Parent=transcript:ENSMUST00000192650</td>\n",
       "    </tr>\n",
       "    <tr>\n",
       "      <th>...</th>\n",
       "      <td>...</td>\n",
       "      <td>...</td>\n",
       "      <td>...</td>\n",
       "      <td>...</td>\n",
       "      <td>...</td>\n",
       "      <td>...</td>\n",
       "      <td>...</td>\n",
       "      <td>...</td>\n",
       "      <td>...</td>\n",
       "    </tr>\n",
       "    <tr>\n",
       "      <th>3893060</th>\n",
       "      <td>chrY</td>\n",
       "      <td>havana</td>\n",
       "      <td>three_prime_UTR</td>\n",
       "      <td>87575496</td>\n",
       "      <td>87575691</td>\n",
       "      <td>.</td>\n",
       "      <td>+</td>\n",
       "      <td>.</td>\n",
       "      <td>Parent=transcript:ENSMUST00000186493</td>\n",
       "    </tr>\n",
       "    <tr>\n",
       "      <th>3893131</th>\n",
       "      <td>chrY</td>\n",
       "      <td>havana</td>\n",
       "      <td>three_prime_UTR</td>\n",
       "      <td>88079298</td>\n",
       "      <td>88079494</td>\n",
       "      <td>.</td>\n",
       "      <td>+</td>\n",
       "      <td>.</td>\n",
       "      <td>Parent=transcript:ENSMUST00000187146</td>\n",
       "    </tr>\n",
       "    <tr>\n",
       "      <th>3893274</th>\n",
       "      <td>chrY</td>\n",
       "      <td>havana</td>\n",
       "      <td>three_prime_UTR</td>\n",
       "      <td>89078824</td>\n",
       "      <td>89079015</td>\n",
       "      <td>.</td>\n",
       "      <td>+</td>\n",
       "      <td>.</td>\n",
       "      <td>Parent=transcript:ENSMUST00000186443</td>\n",
       "    </tr>\n",
       "    <tr>\n",
       "      <th>3893332</th>\n",
       "      <td>chrY</td>\n",
       "      <td>havana</td>\n",
       "      <td>three_prime_UTR</td>\n",
       "      <td>89713424</td>\n",
       "      <td>89713627</td>\n",
       "      <td>.</td>\n",
       "      <td>-</td>\n",
       "      <td>.</td>\n",
       "      <td>Parent=transcript:ENSMUST00000188269</td>\n",
       "    </tr>\n",
       "    <tr>\n",
       "      <th>3893406</th>\n",
       "      <td>chrY</td>\n",
       "      <td>havana</td>\n",
       "      <td>three_prime_UTR</td>\n",
       "      <td>90433060</td>\n",
       "      <td>90433263</td>\n",
       "      <td>.</td>\n",
       "      <td>+</td>\n",
       "      <td>.</td>\n",
       "      <td>Parent=transcript:ENSMUST00000190558</td>\n",
       "    </tr>\n",
       "  </tbody>\n",
       "</table>\n",
       "<p>86993 rows × 9 columns</p>\n",
       "</div>"
      ],
      "text/plain": [
       "        chrom          source          feature     start       end score  \\\n",
       "61       chr1  ensembl_havana  three_prime_UTR   3214482   3216021     .   \n",
       "659      chr1  ensembl_havana  three_prime_UTR   4344146   4344599     .   \n",
       "905      chr1  ensembl_havana  three_prime_UTR   4490931   4491715     .   \n",
       "918      chr1          havana  three_prime_UTR   4491250   4491715     .   \n",
       "927      chr1          havana  three_prime_UTR   4491390   4491715     .   \n",
       "...       ...             ...              ...       ...       ...   ...   \n",
       "3893060  chrY          havana  three_prime_UTR  87575496  87575691     .   \n",
       "3893131  chrY          havana  three_prime_UTR  88079298  88079494     .   \n",
       "3893274  chrY          havana  three_prime_UTR  89078824  89079015     .   \n",
       "3893332  chrY          havana  three_prime_UTR  89713424  89713627     .   \n",
       "3893406  chrY          havana  three_prime_UTR  90433060  90433263     .   \n",
       "\n",
       "        strand frame                             attribute  \n",
       "61           -     .  Parent=transcript:ENSMUST00000070533  \n",
       "659          -     .  Parent=transcript:ENSMUST00000027032  \n",
       "905          -     .  Parent=transcript:ENSMUST00000027035  \n",
       "918          -     .  Parent=transcript:ENSMUST00000195555  \n",
       "927          -     .  Parent=transcript:ENSMUST00000192650  \n",
       "...        ...   ...                                   ...  \n",
       "3893060      +     .  Parent=transcript:ENSMUST00000186493  \n",
       "3893131      +     .  Parent=transcript:ENSMUST00000187146  \n",
       "3893274      +     .  Parent=transcript:ENSMUST00000186443  \n",
       "3893332      -     .  Parent=transcript:ENSMUST00000188269  \n",
       "3893406      +     .  Parent=transcript:ENSMUST00000190558  \n",
       "\n",
       "[86993 rows x 9 columns]"
      ]
     },
     "execution_count": 103,
     "metadata": {},
     "output_type": "execute_result"
    }
   ],
   "source": [
    "gff.query(\"feature == 'three_prime_UTR'\")"
   ]
  },
  {
   "cell_type": "code",
   "execution_count": null,
   "metadata": {},
   "outputs": [],
   "source": []
  },
  {
   "cell_type": "markdown",
   "metadata": {},
   "source": [
    "Code below is for testing purpose"
   ]
  },
  {
   "cell_type": "code",
   "execution_count": 36,
   "metadata": {},
   "outputs": [
    {
     "name": "stderr",
     "output_type": "stream",
     "text": [
      "/home/whatever60/miniforge3/lib/python3.10/site-packages/pyranges/methods/init.py:45: FutureWarning: The default of observed=False is deprecated and will be changed to True in a future version of pandas. Pass observed=False to retain current behavior or observed=True to adopt the future default and silence this warning.\n",
      "  return {k: v for k, v in df.groupby(grpby_key)}\n",
      "/home/whatever60/miniforge3/lib/python3.10/site-packages/pyranges/methods/init.py:45: FutureWarning: The default of observed=False is deprecated and will be changed to True in a future version of pandas. Pass observed=False to retain current behavior or observed=True to adopt the future default and silence this warning.\n",
      "  return {k: v for k, v in df.groupby(grpby_key)}\n",
      "/home/whatever60/miniforge3/lib/python3.10/site-packages/pyranges/methods/init.py:162: FutureWarning: The default of observed=False is deprecated and will be changed to True in a future version of pandas. Pass observed=False to retain current behavior or observed=True to adopt the future default and silence this warning.\n",
      "  empty_removed = df.groupby(\"Chromosome\")\n",
      "join: Strand data from other will be added as strand data to self.\n",
      "If this is undesired use the flag apply_strand_suffix=False.\n",
      "To turn off the warning set apply_strand_suffix to True or False.\n"
     ]
    }
   ],
   "source": [
    "bed_df = load_file(f\"{data_path}/{exp_name}/{narrowpeak_path}\", \"narrowPeak\")\n",
    "annotation_df = load_annotation_file(\n",
    "    f\"{ref_data_path}/gff3/{species}/Mus_musculus.GRCm38.98.chr_prefix.gff3.gz\",\n",
    "    \"gff3\",\n",
    ")\n",
    "bed_df = bed_df.rename(\n",
    "    columns={\n",
    "        \"chrom\": \"Chromosome\",\n",
    "        \"start\": \"Start\",\n",
    "        \"end\": \"End\",\n",
    "        \"strand\": \"Strand\",\n",
    "        \"name\": \"Name\",\n",
    "        \"score\": \"Score\",\n",
    "    }\n",
    ")\n",
    "annotation_df = annotation_df.rename(\n",
    "    columns={\n",
    "        \"chrom\": \"Chromosome\",\n",
    "        \"start\": \"Start\",\n",
    "        \"end\": \"End\",\n",
    "        \"strand\": \"Strand\",\n",
    "        \"attribute\": \"Attribute\",\n",
    "    }\n",
    ")\n",
    "bed_pr = pr.PyRanges(bed_df)\n",
    "utr_pr = pr.PyRanges(annotation_df)"
   ]
  },
  {
   "cell_type": "code",
   "execution_count": 95,
   "metadata": {},
   "outputs": [
    {
     "data": {
      "text/html": [
       "<div>\n",
       "<style scoped>\n",
       "    .dataframe tbody tr th:only-of-type {\n",
       "        vertical-align: middle;\n",
       "    }\n",
       "\n",
       "    .dataframe tbody tr th {\n",
       "        vertical-align: top;\n",
       "    }\n",
       "\n",
       "    .dataframe thead th {\n",
       "        text-align: right;\n",
       "    }\n",
       "</style>\n",
       "<table border=\"1\" class=\"dataframe\">\n",
       "  <thead>\n",
       "    <tr style=\"text-align: right;\">\n",
       "      <th></th>\n",
       "      <th>Chromosome</th>\n",
       "      <th>Start</th>\n",
       "      <th>End</th>\n",
       "      <th>Name</th>\n",
       "      <th>Score</th>\n",
       "      <th>Strand</th>\n",
       "      <th>signalValue</th>\n",
       "      <th>pValue</th>\n",
       "      <th>qValue</th>\n",
       "      <th>peak</th>\n",
       "    </tr>\n",
       "  </thead>\n",
       "  <tbody>\n",
       "    <tr>\n",
       "      <th>20</th>\n",
       "      <td>chr1</td>\n",
       "      <td>3648230</td>\n",
       "      <td>3648611</td>\n",
       "      <td>Visium_Fresh_Frozen_Adult_Mouse_Brain_possorte...</td>\n",
       "      <td>432</td>\n",
       "      <td>.</td>\n",
       "      <td>13.38380</td>\n",
       "      <td>45.9135</td>\n",
       "      <td>43.28710</td>\n",
       "      <td>174</td>\n",
       "    </tr>\n",
       "    <tr>\n",
       "      <th>21</th>\n",
       "      <td>chr1</td>\n",
       "      <td>3658232</td>\n",
       "      <td>3658599</td>\n",
       "      <td>Visium_Fresh_Frozen_Adult_Mouse_Brain_possorte...</td>\n",
       "      <td>275</td>\n",
       "      <td>.</td>\n",
       "      <td>15.09250</td>\n",
       "      <td>30.0346</td>\n",
       "      <td>27.52980</td>\n",
       "      <td>172</td>\n",
       "    </tr>\n",
       "    <tr>\n",
       "      <th>22</th>\n",
       "      <td>chr1</td>\n",
       "      <td>3672580</td>\n",
       "      <td>3672862</td>\n",
       "      <td>Visium_Fresh_Frozen_Adult_Mouse_Brain_possorte...</td>\n",
       "      <td>133</td>\n",
       "      <td>.</td>\n",
       "      <td>7.10059</td>\n",
       "      <td>15.7452</td>\n",
       "      <td>13.39600</td>\n",
       "      <td>136</td>\n",
       "    </tr>\n",
       "    <tr>\n",
       "      <th>23</th>\n",
       "      <td>chr1</td>\n",
       "      <td>3676277</td>\n",
       "      <td>3676754</td>\n",
       "      <td>Visium_Fresh_Frozen_Adult_Mouse_Brain_possorte...</td>\n",
       "      <td>414</td>\n",
       "      <td>.</td>\n",
       "      <td>12.87130</td>\n",
       "      <td>44.0919</td>\n",
       "      <td>41.47820</td>\n",
       "      <td>292</td>\n",
       "    </tr>\n",
       "    <tr>\n",
       "      <th>24</th>\n",
       "      <td>chr1</td>\n",
       "      <td>3681503</td>\n",
       "      <td>3681836</td>\n",
       "      <td>Visium_Fresh_Frozen_Adult_Mouse_Brain_possorte...</td>\n",
       "      <td>344</td>\n",
       "      <td>.</td>\n",
       "      <td>15.88790</td>\n",
       "      <td>37.0161</td>\n",
       "      <td>34.45460</td>\n",
       "      <td>157</td>\n",
       "    </tr>\n",
       "    <tr>\n",
       "      <th>25</th>\n",
       "      <td>chr1</td>\n",
       "      <td>4490835</td>\n",
       "      <td>4491694</td>\n",
       "      <td>Visium_Fresh_Frozen_Adult_Mouse_Brain_possorte...</td>\n",
       "      <td>581</td>\n",
       "      <td>.</td>\n",
       "      <td>13.11190</td>\n",
       "      <td>60.8710</td>\n",
       "      <td>58.14510</td>\n",
       "      <td>186</td>\n",
       "    </tr>\n",
       "    <tr>\n",
       "      <th>26</th>\n",
       "      <td>chr1</td>\n",
       "      <td>4490835</td>\n",
       "      <td>4491694</td>\n",
       "      <td>Visium_Fresh_Frozen_Adult_Mouse_Brain_possorte...</td>\n",
       "      <td>779</td>\n",
       "      <td>.</td>\n",
       "      <td>15.90910</td>\n",
       "      <td>80.8293</td>\n",
       "      <td>77.97790</td>\n",
       "      <td>639</td>\n",
       "    </tr>\n",
       "    <tr>\n",
       "      <th>27</th>\n",
       "      <td>chr1</td>\n",
       "      <td>4687727</td>\n",
       "      <td>4688068</td>\n",
       "      <td>Visium_Fresh_Frozen_Adult_Mouse_Brain_possorte...</td>\n",
       "      <td>340</td>\n",
       "      <td>.</td>\n",
       "      <td>17.24140</td>\n",
       "      <td>36.6576</td>\n",
       "      <td>34.09880</td>\n",
       "      <td>133</td>\n",
       "    </tr>\n",
       "    <tr>\n",
       "      <th>28</th>\n",
       "      <td>chr1</td>\n",
       "      <td>4774305</td>\n",
       "      <td>4774571</td>\n",
       "      <td>Visium_Fresh_Frozen_Adult_Mouse_Brain_possorte...</td>\n",
       "      <td>95</td>\n",
       "      <td>.</td>\n",
       "      <td>3.45395</td>\n",
       "      <td>11.8632</td>\n",
       "      <td>9.57726</td>\n",
       "      <td>141</td>\n",
       "    </tr>\n",
       "    <tr>\n",
       "      <th>29</th>\n",
       "      <td>chr1</td>\n",
       "      <td>4776231</td>\n",
       "      <td>4776758</td>\n",
       "      <td>Visium_Fresh_Frozen_Adult_Mouse_Brain_possorte...</td>\n",
       "      <td>1679</td>\n",
       "      <td>.</td>\n",
       "      <td>16.42280</td>\n",
       "      <td>171.6660</td>\n",
       "      <td>167.95600</td>\n",
       "      <td>256</td>\n",
       "    </tr>\n",
       "  </tbody>\n",
       "</table>\n",
       "</div>"
      ],
      "text/plain": [
       "   Chromosome    Start      End  \\\n",
       "20       chr1  3648230  3648611   \n",
       "21       chr1  3658232  3658599   \n",
       "22       chr1  3672580  3672862   \n",
       "23       chr1  3676277  3676754   \n",
       "24       chr1  3681503  3681836   \n",
       "25       chr1  4490835  4491694   \n",
       "26       chr1  4490835  4491694   \n",
       "27       chr1  4687727  4688068   \n",
       "28       chr1  4774305  4774571   \n",
       "29       chr1  4776231  4776758   \n",
       "\n",
       "                                                 Name  Score Strand  \\\n",
       "20  Visium_Fresh_Frozen_Adult_Mouse_Brain_possorte...    432      .   \n",
       "21  Visium_Fresh_Frozen_Adult_Mouse_Brain_possorte...    275      .   \n",
       "22  Visium_Fresh_Frozen_Adult_Mouse_Brain_possorte...    133      .   \n",
       "23  Visium_Fresh_Frozen_Adult_Mouse_Brain_possorte...    414      .   \n",
       "24  Visium_Fresh_Frozen_Adult_Mouse_Brain_possorte...    344      .   \n",
       "25  Visium_Fresh_Frozen_Adult_Mouse_Brain_possorte...    581      .   \n",
       "26  Visium_Fresh_Frozen_Adult_Mouse_Brain_possorte...    779      .   \n",
       "27  Visium_Fresh_Frozen_Adult_Mouse_Brain_possorte...    340      .   \n",
       "28  Visium_Fresh_Frozen_Adult_Mouse_Brain_possorte...     95      .   \n",
       "29  Visium_Fresh_Frozen_Adult_Mouse_Brain_possorte...   1679      .   \n",
       "\n",
       "    signalValue    pValue     qValue  peak  \n",
       "20     13.38380   45.9135   43.28710   174  \n",
       "21     15.09250   30.0346   27.52980   172  \n",
       "22      7.10059   15.7452   13.39600   136  \n",
       "23     12.87130   44.0919   41.47820   292  \n",
       "24     15.88790   37.0161   34.45460   157  \n",
       "25     13.11190   60.8710   58.14510   186  \n",
       "26     15.90910   80.8293   77.97790   639  \n",
       "27     17.24140   36.6576   34.09880   133  \n",
       "28      3.45395   11.8632    9.57726   141  \n",
       "29     16.42280  171.6660  167.95600   256  "
      ]
     },
     "execution_count": 95,
     "metadata": {},
     "output_type": "execute_result"
    }
   ],
   "source": [
    "bed_df.iloc[20:].head(10)"
   ]
  },
  {
   "cell_type": "code",
   "execution_count": 129,
   "metadata": {},
   "outputs": [],
   "source": [
    "strand_specific = False\n",
    "overlap_thres = 0.5"
   ]
  },
  {
   "cell_type": "code",
   "execution_count": 133,
   "metadata": {},
   "outputs": [
    {
     "name": "stderr",
     "output_type": "stream",
     "text": [
      "/home/whatever60/miniforge3/lib/python3.10/site-packages/pyranges/methods/init.py:162: FutureWarning: The default of observed=False is deprecated and will be changed to True in a future version of pandas. Pass observed=False to retain current behavior or observed=True to adopt the future default and silence this warning.\n",
      "  empty_removed = df.groupby(\"Chromosome\")\n",
      "join: Strand data from other will be added as strand data to self.\n",
      "If this is undesired use the flag apply_strand_suffix=False.\n",
      "To turn off the warning set apply_strand_suffix to True or False.\n",
      "/home/whatever60/miniforge3/lib/python3.10/site-packages/pyranges/methods/init.py:162: FutureWarning: The default of observed=False is deprecated and will be changed to True in a future version of pandas. Pass observed=False to retain current behavior or observed=True to adopt the future default and silence this warning.\n",
      "  empty_removed = df.groupby(\"Chromosome\")\n",
      "/home/whatever60/miniforge3/lib/python3.10/site-packages/pyranges/methods/init.py:162: FutureWarning: The default of observed=False is deprecated and will be changed to True in a future version of pandas. Pass observed=False to retain current behavior or observed=True to adopt the future default and silence this warning.\n",
      "  empty_removed = df.groupby(\"Chromosome\")\n",
      "/home/whatever60/miniforge3/lib/python3.10/site-packages/pyranges/methods/init.py:162: FutureWarning: The default of observed=False is deprecated and will be changed to True in a future version of pandas. Pass observed=False to retain current behavior or observed=True to adopt the future default and silence this warning.\n",
      "  empty_removed = df.groupby(\"Chromosome\")\n",
      "/home/whatever60/miniforge3/lib/python3.10/site-packages/pyranges/methods/init.py:162: FutureWarning: The default of observed=False is deprecated and will be changed to True in a future version of pandas. Pass observed=False to retain current behavior or observed=True to adopt the future default and silence this warning.\n",
      "  empty_removed = df.groupby(\"Chromosome\")\n",
      "/home/whatever60/miniforge3/lib/python3.10/site-packages/pyranges/methods/init.py:162: FutureWarning: The default of observed=False is deprecated and will be changed to True in a future version of pandas. Pass observed=False to retain current behavior or observed=True to adopt the future default and silence this warning.\n",
      "  empty_removed = df.groupby(\"Chromosome\")\n",
      "/home/whatever60/miniforge3/lib/python3.10/site-packages/pyranges/methods/init.py:162: FutureWarning: The default of observed=False is deprecated and will be changed to True in a future version of pandas. Pass observed=False to retain current behavior or observed=True to adopt the future default and silence this warning.\n",
      "  empty_removed = df.groupby(\"Chromosome\")\n"
     ]
    },
    {
     "data": {
      "text/html": [
       "<div>\n",
       "<style scoped>\n",
       "    .dataframe tbody tr th:only-of-type {\n",
       "        vertical-align: middle;\n",
       "    }\n",
       "\n",
       "    .dataframe tbody tr th {\n",
       "        vertical-align: top;\n",
       "    }\n",
       "\n",
       "    .dataframe thead th {\n",
       "        text-align: right;\n",
       "    }\n",
       "</style>\n",
       "<table border=\"1\" class=\"dataframe\">\n",
       "  <thead>\n",
       "    <tr style=\"text-align: right;\">\n",
       "      <th></th>\n",
       "      <th>Chromosome</th>\n",
       "      <th>Start</th>\n",
       "      <th>End</th>\n",
       "      <th>Name</th>\n",
       "      <th>Score</th>\n",
       "      <th>Strand</th>\n",
       "      <th>peak</th>\n",
       "      <th>Start_utr</th>\n",
       "      <th>End_utr</th>\n",
       "      <th>Strand_utr</th>\n",
       "      <th>Attribute</th>\n",
       "    </tr>\n",
       "  </thead>\n",
       "  <tbody>\n",
       "    <tr>\n",
       "      <th>0</th>\n",
       "      <td>chr1</td>\n",
       "      <td>3214373</td>\n",
       "      <td>3214776</td>\n",
       "      <td>Visium_Fresh_Frozen_Adult_Mouse_Brain_possorte...</td>\n",
       "      <td>224</td>\n",
       "      <td>.</td>\n",
       "      <td>227</td>\n",
       "      <td>3214482</td>\n",
       "      <td>3216021</td>\n",
       "      <td>-</td>\n",
       "      <td>Parent=transcript:ENSMUST00000070533</td>\n",
       "    </tr>\n",
       "    <tr>\n",
       "      <th>1</th>\n",
       "      <td>chr1</td>\n",
       "      <td>4490835</td>\n",
       "      <td>4491694</td>\n",
       "      <td>Visium_Fresh_Frozen_Adult_Mouse_Brain_possorte...</td>\n",
       "      <td>581</td>\n",
       "      <td>.</td>\n",
       "      <td>186</td>\n",
       "      <td>4490931</td>\n",
       "      <td>4491715</td>\n",
       "      <td>-</td>\n",
       "      <td>Parent=transcript:ENSMUST00000027035</td>\n",
       "    </tr>\n",
       "    <tr>\n",
       "      <th>2</th>\n",
       "      <td>chr1</td>\n",
       "      <td>4490835</td>\n",
       "      <td>4491694</td>\n",
       "      <td>Visium_Fresh_Frozen_Adult_Mouse_Brain_possorte...</td>\n",
       "      <td>581</td>\n",
       "      <td>.</td>\n",
       "      <td>186</td>\n",
       "      <td>4491250</td>\n",
       "      <td>4491715</td>\n",
       "      <td>-</td>\n",
       "      <td>Parent=transcript:ENSMUST00000195555</td>\n",
       "    </tr>\n",
       "    <tr>\n",
       "      <th>3</th>\n",
       "      <td>chr1</td>\n",
       "      <td>4490835</td>\n",
       "      <td>4491694</td>\n",
       "      <td>Visium_Fresh_Frozen_Adult_Mouse_Brain_possorte...</td>\n",
       "      <td>779</td>\n",
       "      <td>.</td>\n",
       "      <td>639</td>\n",
       "      <td>4490931</td>\n",
       "      <td>4491715</td>\n",
       "      <td>-</td>\n",
       "      <td>Parent=transcript:ENSMUST00000027035</td>\n",
       "    </tr>\n",
       "    <tr>\n",
       "      <th>4</th>\n",
       "      <td>chr1</td>\n",
       "      <td>4490835</td>\n",
       "      <td>4491694</td>\n",
       "      <td>Visium_Fresh_Frozen_Adult_Mouse_Brain_possorte...</td>\n",
       "      <td>779</td>\n",
       "      <td>.</td>\n",
       "      <td>639</td>\n",
       "      <td>4491250</td>\n",
       "      <td>4491715</td>\n",
       "      <td>-</td>\n",
       "      <td>Parent=transcript:ENSMUST00000195555</td>\n",
       "    </tr>\n",
       "    <tr>\n",
       "      <th>...</th>\n",
       "      <td>...</td>\n",
       "      <td>...</td>\n",
       "      <td>...</td>\n",
       "      <td>...</td>\n",
       "      <td>...</td>\n",
       "      <td>...</td>\n",
       "      <td>...</td>\n",
       "      <td>...</td>\n",
       "      <td>...</td>\n",
       "      <td>...</td>\n",
       "      <td>...</td>\n",
       "    </tr>\n",
       "    <tr>\n",
       "      <th>39818</th>\n",
       "      <td>chrY</td>\n",
       "      <td>1261434</td>\n",
       "      <td>1261902</td>\n",
       "      <td>Visium_Fresh_Frozen_Adult_Mouse_Brain_possorte...</td>\n",
       "      <td>1148</td>\n",
       "      <td>.</td>\n",
       "      <td>250</td>\n",
       "      <td>1260771</td>\n",
       "      <td>1263287</td>\n",
       "      <td>-</td>\n",
       "      <td>Parent=transcript:ENSMUST00000091190</td>\n",
       "    </tr>\n",
       "    <tr>\n",
       "      <th>39819</th>\n",
       "      <td>chrY</td>\n",
       "      <td>1262245</td>\n",
       "      <td>1262560</td>\n",
       "      <td>Visium_Fresh_Frozen_Adult_Mouse_Brain_possorte...</td>\n",
       "      <td>210</td>\n",
       "      <td>.</td>\n",
       "      <td>175</td>\n",
       "      <td>1260771</td>\n",
       "      <td>1263287</td>\n",
       "      <td>-</td>\n",
       "      <td>Parent=transcript:ENSMUST00000091190</td>\n",
       "    </tr>\n",
       "    <tr>\n",
       "      <th>39820</th>\n",
       "      <td>chrY</td>\n",
       "      <td>1262245</td>\n",
       "      <td>1262560</td>\n",
       "      <td>Visium_Fresh_Frozen_Adult_Mouse_Brain_possorte...</td>\n",
       "      <td>210</td>\n",
       "      <td>.</td>\n",
       "      <td>175</td>\n",
       "      <td>1262313</td>\n",
       "      <td>1263367</td>\n",
       "      <td>-</td>\n",
       "      <td>Parent=transcript:ENSMUST00000188484</td>\n",
       "    </tr>\n",
       "    <tr>\n",
       "      <th>39821</th>\n",
       "      <td>chrY</td>\n",
       "      <td>1262794</td>\n",
       "      <td>1262997</td>\n",
       "      <td>Visium_Fresh_Frozen_Adult_Mouse_Brain_possorte...</td>\n",
       "      <td>109</td>\n",
       "      <td>.</td>\n",
       "      <td>99</td>\n",
       "      <td>1260771</td>\n",
       "      <td>1263287</td>\n",
       "      <td>-</td>\n",
       "      <td>Parent=transcript:ENSMUST00000091190</td>\n",
       "    </tr>\n",
       "    <tr>\n",
       "      <th>39822</th>\n",
       "      <td>chrY</td>\n",
       "      <td>1262794</td>\n",
       "      <td>1262997</td>\n",
       "      <td>Visium_Fresh_Frozen_Adult_Mouse_Brain_possorte...</td>\n",
       "      <td>109</td>\n",
       "      <td>.</td>\n",
       "      <td>99</td>\n",
       "      <td>1262313</td>\n",
       "      <td>1263367</td>\n",
       "      <td>-</td>\n",
       "      <td>Parent=transcript:ENSMUST00000188484</td>\n",
       "    </tr>\n",
       "  </tbody>\n",
       "</table>\n",
       "<p>39823 rows × 11 columns</p>\n",
       "</div>"
      ],
      "text/plain": [
       "      Chromosome    Start      End  \\\n",
       "0           chr1  3214373  3214776   \n",
       "1           chr1  4490835  4491694   \n",
       "2           chr1  4490835  4491694   \n",
       "3           chr1  4490835  4491694   \n",
       "4           chr1  4490835  4491694   \n",
       "...          ...      ...      ...   \n",
       "39818       chrY  1261434  1261902   \n",
       "39819       chrY  1262245  1262560   \n",
       "39820       chrY  1262245  1262560   \n",
       "39821       chrY  1262794  1262997   \n",
       "39822       chrY  1262794  1262997   \n",
       "\n",
       "                                                    Name  Score Strand  peak  \\\n",
       "0      Visium_Fresh_Frozen_Adult_Mouse_Brain_possorte...    224      .   227   \n",
       "1      Visium_Fresh_Frozen_Adult_Mouse_Brain_possorte...    581      .   186   \n",
       "2      Visium_Fresh_Frozen_Adult_Mouse_Brain_possorte...    581      .   186   \n",
       "3      Visium_Fresh_Frozen_Adult_Mouse_Brain_possorte...    779      .   639   \n",
       "4      Visium_Fresh_Frozen_Adult_Mouse_Brain_possorte...    779      .   639   \n",
       "...                                                  ...    ...    ...   ...   \n",
       "39818  Visium_Fresh_Frozen_Adult_Mouse_Brain_possorte...   1148      .   250   \n",
       "39819  Visium_Fresh_Frozen_Adult_Mouse_Brain_possorte...    210      .   175   \n",
       "39820  Visium_Fresh_Frozen_Adult_Mouse_Brain_possorte...    210      .   175   \n",
       "39821  Visium_Fresh_Frozen_Adult_Mouse_Brain_possorte...    109      .    99   \n",
       "39822  Visium_Fresh_Frozen_Adult_Mouse_Brain_possorte...    109      .    99   \n",
       "\n",
       "       Start_utr  End_utr Strand_utr                             Attribute  \n",
       "0        3214482  3216021          -  Parent=transcript:ENSMUST00000070533  \n",
       "1        4490931  4491715          -  Parent=transcript:ENSMUST00000027035  \n",
       "2        4491250  4491715          -  Parent=transcript:ENSMUST00000195555  \n",
       "3        4490931  4491715          -  Parent=transcript:ENSMUST00000027035  \n",
       "4        4491250  4491715          -  Parent=transcript:ENSMUST00000195555  \n",
       "...          ...      ...        ...                                   ...  \n",
       "39818    1260771  1263287          -  Parent=transcript:ENSMUST00000091190  \n",
       "39819    1260771  1263287          -  Parent=transcript:ENSMUST00000091190  \n",
       "39820    1262313  1263367          -  Parent=transcript:ENSMUST00000188484  \n",
       "39821    1260771  1263287          -  Parent=transcript:ENSMUST00000091190  \n",
       "39822    1262313  1263367          -  Parent=transcript:ENSMUST00000188484  \n",
       "\n",
       "[39823 rows x 11 columns]"
      ]
     },
     "execution_count": 133,
     "metadata": {},
     "output_type": "execute_result"
    }
   ],
   "source": [
    "# Find overlaps\n",
    "if strand_specific:\n",
    "    overlaps = bed_pr.join(utr_pr, strandedness=\"same\", suffix=\"_utr\")\n",
    "else:\n",
    "    overlaps = bed_pr.join(utr_pr, strandedness=False, suffix=\"_utr\")\n",
    "\n",
    "# Calculate overlap lengths and filter by 50% criterion\n",
    "# overlaps.df[\"overlap_len\"] = overlaps.df.apply(\n",
    "#     lambda row: min(row.End, row.End_utr) - max(row.Start, row.Start_utr),\n",
    "#     axis=1,\n",
    "# )\n",
    "overlaps = overlaps.insert(\n",
    "    (\n",
    "        np.minimum(overlaps.End, overlaps.End_utr)\n",
    "        - np.maximum(overlaps.Start, overlaps.Start_utr)\n",
    "    ).rename(\"overlap_len\")\n",
    ").insert((overlaps.End - overlaps.Start).rename(\"bed_len\"))\n",
    "overlaps = overlaps[(overlaps.overlap_len / overlaps.bed_len) >= overlap_thres]\n",
    "overlaps[\n",
    "    [\n",
    "        \"Chromosome\",\n",
    "        \"Start\",\n",
    "        \"End\",\n",
    "        \"Name\",\n",
    "        \"Score\",\n",
    "        \"Strand\",\n",
    "        \"peak\",\n",
    "        \"Start_utr\",\n",
    "        \"End_utr\",\n",
    "        \"Strand_utr\",\n",
    "        \"Attribute\",\n",
    "    ]\n",
    "].df"
   ]
  },
  {
   "cell_type": "code",
   "execution_count": 127,
   "metadata": {},
   "outputs": [
    {
     "data": {
      "text/html": [
       "<div>\n",
       "<style scoped>\n",
       "    .dataframe tbody tr th:only-of-type {\n",
       "        vertical-align: middle;\n",
       "    }\n",
       "\n",
       "    .dataframe tbody tr th {\n",
       "        vertical-align: top;\n",
       "    }\n",
       "\n",
       "    .dataframe thead th {\n",
       "        text-align: right;\n",
       "    }\n",
       "</style>\n",
       "<table border=\"1\" class=\"dataframe\">\n",
       "  <thead>\n",
       "    <tr style=\"text-align: right;\">\n",
       "      <th></th>\n",
       "      <th>Chromosome</th>\n",
       "      <th>Start</th>\n",
       "      <th>End</th>\n",
       "      <th>peak</th>\n",
       "    </tr>\n",
       "  </thead>\n",
       "  <tbody>\n",
       "    <tr>\n",
       "      <th>0</th>\n",
       "      <td>chr1</td>\n",
       "      <td>3214373</td>\n",
       "      <td>3214776</td>\n",
       "      <td>227</td>\n",
       "    </tr>\n",
       "    <tr>\n",
       "      <th>1</th>\n",
       "      <td>chr1</td>\n",
       "      <td>4490835</td>\n",
       "      <td>4491694</td>\n",
       "      <td>186</td>\n",
       "    </tr>\n",
       "    <tr>\n",
       "      <th>2</th>\n",
       "      <td>chr1</td>\n",
       "      <td>4490835</td>\n",
       "      <td>4491694</td>\n",
       "      <td>186</td>\n",
       "    </tr>\n",
       "    <tr>\n",
       "      <th>3</th>\n",
       "      <td>chr1</td>\n",
       "      <td>4490835</td>\n",
       "      <td>4491694</td>\n",
       "      <td>639</td>\n",
       "    </tr>\n",
       "    <tr>\n",
       "      <th>4</th>\n",
       "      <td>chr1</td>\n",
       "      <td>4490835</td>\n",
       "      <td>4491694</td>\n",
       "      <td>639</td>\n",
       "    </tr>\n",
       "    <tr>\n",
       "      <th>...</th>\n",
       "      <td>...</td>\n",
       "      <td>...</td>\n",
       "      <td>...</td>\n",
       "      <td>...</td>\n",
       "    </tr>\n",
       "    <tr>\n",
       "      <th>39818</th>\n",
       "      <td>chrY</td>\n",
       "      <td>1261434</td>\n",
       "      <td>1261902</td>\n",
       "      <td>250</td>\n",
       "    </tr>\n",
       "    <tr>\n",
       "      <th>39819</th>\n",
       "      <td>chrY</td>\n",
       "      <td>1262245</td>\n",
       "      <td>1262560</td>\n",
       "      <td>175</td>\n",
       "    </tr>\n",
       "    <tr>\n",
       "      <th>39820</th>\n",
       "      <td>chrY</td>\n",
       "      <td>1262245</td>\n",
       "      <td>1262560</td>\n",
       "      <td>175</td>\n",
       "    </tr>\n",
       "    <tr>\n",
       "      <th>39821</th>\n",
       "      <td>chrY</td>\n",
       "      <td>1262794</td>\n",
       "      <td>1262997</td>\n",
       "      <td>99</td>\n",
       "    </tr>\n",
       "    <tr>\n",
       "      <th>39822</th>\n",
       "      <td>chrY</td>\n",
       "      <td>1262794</td>\n",
       "      <td>1262997</td>\n",
       "      <td>99</td>\n",
       "    </tr>\n",
       "  </tbody>\n",
       "</table>\n",
       "<p>39823 rows × 4 columns</p>\n",
       "</div>"
      ],
      "text/plain": [
       "+--------------+-----------+-----------+-----------+\n",
       "| Chromosome   | Start     | End       | peak      |\n",
       "| (category)   | (int64)   | (int64)   | (int64)   |\n",
       "|--------------+-----------+-----------+-----------|\n",
       "| chr1         | 3214373   | 3214776   | 227       |\n",
       "| chr1         | 4490835   | 4491694   | 186       |\n",
       "| chr1         | 4490835   | 4491694   | 186       |\n",
       "| chr1         | 4490835   | 4491694   | 639       |\n",
       "| ...          | ...       | ...       | ...       |\n",
       "| chrY         | 1262245   | 1262560   | 175       |\n",
       "| chrY         | 1262245   | 1262560   | 175       |\n",
       "| chrY         | 1262794   | 1262997   | 99        |\n",
       "| chrY         | 1262794   | 1262997   | 99        |\n",
       "+--------------+-----------+-----------+-----------+\n",
       "Unstranded PyRanges object has 39,823 rows and 4 columns from 21 chromosomes.\n",
       "For printing, the PyRanges was sorted on Chromosome."
      ]
     },
     "execution_count": 127,
     "metadata": {},
     "output_type": "execute_result"
    }
   ],
   "source": [
    "overlaps[[\"Chromosome\", \"Start\", \"peak\"]]"
   ]
  },
  {
   "cell_type": "code",
   "execution_count": null,
   "metadata": {},
   "outputs": [],
   "source": [
    "result_df = overlaps.df[\n",
    "    [\n",
    "        \"Chromosome\",\n",
    "        \"Start\",\n",
    "        \"End\",\n",
    "        \"Name\",\n",
    "        \"Score\",\n",
    "        \"Strand\",\n",
    "        \"Start_utr\",\n",
    "        \"End_utr\",\n",
    "        \"Strand_utr\",\n",
    "        \"attribute\",\n",
    "    ]\n",
    "]\n",
    "result_df.columns = [\n",
    "    \"chrom\",\n",
    "    \"start\",\n",
    "    \"end\",\n",
    "    \"name\",\n",
    "    \"score\",\n",
    "    \"strand\",\n",
    "    \"utr_start\",\n",
    "    \"utr_end\",\n",
    "    \"utr_strand\",\n",
    "    \"utr_info\",\n",
    "]\n",
    "result_df"
   ]
  }
 ],
 "metadata": {
  "kernelspec": {
   "display_name": "base",
   "language": "python",
   "name": "python3"
  },
  "language_info": {
   "codemirror_mode": {
    "name": "ipython",
    "version": 3
   },
   "file_extension": ".py",
   "mimetype": "text/x-python",
   "name": "python",
   "nbconvert_exporter": "python",
   "pygments_lexer": "ipython3",
   "version": "3.10.8"
  }
 },
 "nbformat": 4,
 "nbformat_minor": 2
}
